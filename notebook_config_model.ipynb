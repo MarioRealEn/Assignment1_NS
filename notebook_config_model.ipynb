{
 "cells": [
  {
   "cell_type": "markdown",
   "metadata": {},
   "source": [
    "# Flash 1 submission\n",
    "\n",
    "Team members:\n",
    "* Real Mario\n",
    "* Fake Mario\n",
    "* Suspicious Mario\n",
    "* Derrick Timmermans"
   ]
  },
  {
   "cell_type": "markdown",
   "metadata": {},
   "source": [
    "## Boilerplate code"
   ]
  },
  {
   "cell_type": "markdown",
   "metadata": {},
   "source": [
    "### Imports"
   ]
  },
  {
   "cell_type": "code",
   "execution_count": 3,
   "metadata": {},
   "outputs": [],
   "source": [
    "import networkx\n",
    "from datetime import datetime\n",
    "import csv\n",
    "from typing import Any\n",
    "from itertools import combinations\n",
    "import pandas\n",
    "import networkx as nx\n",
    "import random as random\n",
    "import collections\n",
    "import matplotlib.pyplot as plt\n",
    "import numpy as np\n",
    "import scipy.stats as stats\n",
    "\n"
   ]
  },
  {
   "cell_type": "markdown",
   "metadata": {},
   "source": [
    "### Basic types and aliases"
   ]
  },
  {
   "cell_type": "code",
   "execution_count": 4,
   "metadata": {},
   "outputs": [],
   "source": [
    "# Just a struct to more easily represent collected entries\n",
    "from dataclasses import dataclass\n",
    "\n",
    "from typing import Hashable\n",
    "\n",
    "Node = Hashable\n",
    "Edge = tuple[Node, Node]\n",
    "WeightedEdgeDict = dict[Edge, int]\n",
    "\n",
    "@dataclass\n",
    "class EntryStruct:\n",
    "    def __init__(\n",
    "        self,\n",
    "        videoID: str,\n",
    "        user1: str,\n",
    "        user2: str,\n",
    "        timestamp1: datetime,\n",
    "        timestamp2: datetime,\n",
    "    ) -> None:\n",
    "        self.user1 = user1\n",
    "        self.user2 = user2\n",
    "        self.timestamp1 = timestamp1\n",
    "        self.timestamp2 = timestamp2\n",
    "        self.videoID = videoID\n",
    "        pass\n",
    "\n",
    "    @classmethod\n",
    "    def datetimeFromCSVTimestamp(cls, csvTimestamp: str):\n",
    "        return datetime.strptime(csvTimestamp, \"%Y-%m-%d %H:%M:%S\")\n",
    "\n",
    "    @classmethod\n",
    "    def fromEntryRow(cls, row: dict[str, Any]):\n",
    "        return EntryStruct(\n",
    "            row[\"videoID\"],\n",
    "            row[\"userID_1\"],\n",
    "            row[\"userID_2\"],\n",
    "            cls.datetimeFromCSVTimestamp(row[\"timestamp_1\"]),\n",
    "            cls.datetimeFromCSVTimestamp(row[\"timestamp_2\"]),\n",
    "        )"
   ]
  },
  {
   "cell_type": "markdown",
   "metadata": {},
   "source": [
    "## Processing the dataset"
   ]
  },
  {
   "cell_type": "markdown",
   "metadata": {},
   "source": [
    "### Loading the data set"
   ]
  },
  {
   "cell_type": "code",
   "execution_count": 59,
   "metadata": {},
   "outputs": [],
   "source": [
    "entries: list[EntryStruct] = []\n",
    "\n",
    "with open(\"pairwise_52seconds_share.csv\", newline=\"\") as csvfile:\n",
    "    csvreader = csv.DictReader(csvfile)\n",
    "    entries = [EntryStruct.fromEntryRow(row) for row in csvreader]"
   ]
  },
  {
   "cell_type": "markdown",
   "metadata": {},
   "source": [
    "### Creating nodes for each unique user / video within the data set"
   ]
  },
  {
   "cell_type": "code",
   "execution_count": 60,
   "metadata": {},
   "outputs": [],
   "source": [
    "userNodes = set[Node]()\n",
    "videoNodes = set[Node]()\n",
    "\n",
    "for entry in entries:\n",
    "    userNodes.add(entry.user1)\n",
    "    userNodes.add(entry.user2)\n",
    "    videoNodes.add(entry.videoID)"
   ]
  },
  {
   "cell_type": "markdown",
   "metadata": {},
   "source": [
    "### Computing trends and edges"
   ]
  },
  {
   "cell_type": "code",
   "execution_count": null,
   "metadata": {},
   "outputs": [],
   "source": [
    "UserEngagementEdges: WeightedEdgeDict = {}\n",
    "EngagementTargetEdges: WeightedEdgeDict = {}\n",
    "VideoEngagementPeriodEdges: WeightedEdgeDict = {}\n",
    "RelationEdges: WeightedEdgeDict = {}\n",
    "\n",
    "userEngagementNodes = set[Node]()\n",
    "engagementPeriodNodes = set[Node]()\n",
    "\n",
    "\n",
    "# Helper function to increment edge weights when the edge already exist\n",
    "def addOrUpdateEdge(edgesDict: WeightedEdgeDict, edge: Edge):\n",
    "    edgesDict[edge] = edgesDict[edge] + 1 if edge in edgesDict else 1\n",
    "\n",
    "\n",
    "# Create a chronologically ordered list of all video sharing activity by each user\n",
    "# Due to the usage of sets, this will also filter erroneous entries where the same user shared the same video multiple times at the same time\n",
    "shareEvents = list(\n",
    "    set(\n",
    "        [(e.user1, e.timestamp1, e.videoID) for e in entries]\n",
    "        + [(e.user2, e.timestamp2, e.videoID) for e in entries]\n",
    "    )\n",
    ")\n",
    "\n",
    "# Sorting in-place rather than a sort+copy via `sorted()`\n",
    "shareEvents.sort(key=lambda tup: tup[1])\n",
    "\n",
    "# This copy of share events is augmented with the probable starting date time of a trend\n",
    "augmentedShareEvents = list[tuple[str, datetime, str, datetime]]()\n",
    "\n",
    "lastTime: datetime = datetime(1980, 1, 1)\n",
    "currentTimeStampBatch = datetime(1980, 1, 1)\n",
    "\n",
    "# Let's try to assign each share event into a trend period\n",
    "for event in shareEvents:\n",
    "    # A datetime is the original of it's own trend period if it is more than 24 hrs apart since the last share datetime\n",
    "    # Each trend period will get its own node to represent the preiod\n",
    "    if (event[1] - lastTime).total_seconds() > 60 * 60 * 24:\n",
    "        currentTimeStampBatch = event[1]\n",
    "        engagementPeriodNodes.add(currentTimeStampBatch)\n",
    "\n",
    "    lastTime = event[1]\n",
    "    augmentedShareEvents.append((event[0], currentTimeStampBatch, event[2], event[1]))\n",
    "\n",
    "# Let's try to find pairs of users who shared the same video within a 52 second timespan\n",
    "# Bloom: Yes I know that the original dataset contained that information,\n",
    "#   yet I am excluding it since I then adjust the \"closeness interval\" to something else if I desire\n",
    "pairs = [\n",
    "    item\n",
    "    for item in combinations(augmentedShareEvents, 2)\n",
    "    if abs((item[0][3] - item[1][3]).total_seconds()) < 52\n",
    "    and item[0][2] == item[1][2]  # Video must be the same\n",
    "]\n",
    "\n",
    "# Add bidirectional edges for share buddies\n",
    "for item in pairs:\n",
    "    addOrUpdateEdge(RelationEdges, (item[0][0], item[1][0]))\n",
    "    addOrUpdateEdge(RelationEdges, (item[1][0], item[0][0]))\n",
    "\n",
    "# Add edges for each share event\n",
    "for event in augmentedShareEvents:\n",
    "    # Add weight to an edge between the user and the trend node\n",
    "    addOrUpdateEdge(EngagementTargetEdges, (event[0], event[1]))\n",
    "\n",
    "    # Add weight to an edge between the trend node and the target video\n",
    "    addOrUpdateEdge(VideoEngagementPeriodEdges, (event[1], event[2]))"
   ]
  },
  {
   "cell_type": "markdown",
   "metadata": {},
   "source": [
    "## Creating the graph"
   ]
  },
  {
   "cell_type": "markdown",
   "metadata": {},
   "source": [
    "### Helper functions"
   ]
  },
  {
   "cell_type": "code",
   "execution_count": 62,
   "metadata": {},
   "outputs": [],
   "source": [
    "nodeID = 0\n",
    "nodeIDMap: dict[str, int] = {}\n",
    "# This function is used to assign simpler IDs for node identifiers\n",
    "def getNodeIDFor(label: Any):\n",
    "    global nodeID\n",
    "    if label in nodeIDMap:\n",
    "        return nodeIDMap[label]\n",
    "\n",
    "    nodeIDMap[label] = nodeID\n",
    "    nodeID += 1\n",
    "    return nodeIDMap[label]\n",
    "\n",
    "def addEdgesToGraph(\n",
    "    G: networkx.Graph, edges: WeightedEdgeDict, edgeType: str, bidirectional=False\n",
    "):\n",
    "    for edge in edges:\n",
    "        weight = edges[edge]\n",
    "        u = getNodeIDFor(edge[0])\n",
    "        v = getNodeIDFor(edge[1])\n",
    "        G.add_edge(u, v, edgeType=edgeType, weight=weight)\n",
    "        if bidirectional:\n",
    "            G.add_edge(v, u, edgeType=edgeType, weight=weight)\n",
    "\n",
    "def addNodesToGraph(G: networkx.Graph, nodes: set[Node], nodeType: str):\n",
    "    for node in nodes:\n",
    "        G.add_node(getNodeIDFor(node), type=nodeType, label=node)\n"
   ]
  },
  {
   "cell_type": "code",
   "execution_count": null,
   "metadata": {},
   "outputs": [
    {
     "name": "stdout",
     "output_type": "stream",
     "text": [
      "4476\n",
      "12518\n"
     ]
    }
   ],
   "source": [
    "G_ws = networkx.DiGraph()\n",
    "\n",
    "addNodesToGraph(G_ws, engagementPeriodNodes, \"EngagementPeriod\")\n",
    "addNodesToGraph(G_ws, userNodes, \"User\")\n",
    "addNodesToGraph(G_ws, videoNodes, \"Video\")\n",
    "\n",
    "addEdgesToGraph(G_ws, RelationEdges, \"RelationEdges\")\n",
    "addEdgesToGraph(G_ws, VideoEngagementPeriodEdges, \"EngagementPeriodEdge\")\n",
    "addEdgesToGraph(G_ws, EngagementTargetEdges, \"EngagementTarget\")\n",
    "\n",
    "\n",
    "print(G_ws.number_of_nodes())\n",
    "print(G_ws.number_of_edges())"
   ]
  },
  {
   "cell_type": "markdown",
   "metadata": {},
   "source": [
    "### Exporting to gexf"
   ]
  },
  {
   "cell_type": "markdown",
   "metadata": {},
   "source": []
  },
  {
   "cell_type": "code",
   "execution_count": null,
   "metadata": {},
   "outputs": [],
   "source": [
    "networkx.write_gexf(G_ws, \"graph.gexf\")"
   ]
  },
  {
   "cell_type": "markdown",
   "metadata": {},
   "source": [
    "### Render using gephi\n",
    "\n",
    "The above `.gexf` file can be imported into Gephi, in order to render/visualize the network. \n",
    "\n",
    "The following are the steps I've taken:\n",
    "1. Color the nodes based on `Type` attribute\n",
    "2. Size the nodes based on `Weighted in-degree`\n",
    "   * Min size = 10\n",
    "   * Max Size = 150\n",
    "   * Spline easing = Circular\n",
    "3. Ran the ForceAtlas2 layouting algorithm\n",
    "   * Default settings, with `Gravity=500` and `Scaling=100` \n",
    "4. Color the edges based on the target node's color\n",
    "5. Rescaled the edge weights to $[10, 100]$"
   ]
  },
  {
   "cell_type": "markdown",
   "metadata": {},
   "source": [
    "The following image shows the processed dataset from above.\n",
    "\n",
    "* Green nodes are Trend node, indicating a lot of activity all occurring within a day of each other.\n",
    "* Purple nodes are Users.\n",
    "* Orange nodes are Videos."
   ]
  },
  {
   "cell_type": "markdown",
   "metadata": {},
   "source": [
    "\n",
    "![Image](renders/Gephi-render.svg)"
   ]
  },
  {
   "cell_type": "code",
   "execution_count": 5,
   "metadata": {},
   "outputs": [],
   "source": [
    "import math\n",
    "\n",
    "\n",
    "def connectedComponents(G: nx.Graph | nx.MultiGraph):\n",
    "    return len([c for c in nx.connected_components(G)])\n",
    "\n",
    "\n",
    "def avgClusteringCoeff(G: nx.Graph | nx.MultiGraph):\n",
    "    try:\n",
    "        avg_clustering = nx.average_clustering(G)\n",
    "    except:\n",
    "        return -1\n",
    "\n",
    "    return avg_clustering\n",
    "\n",
    "\n",
    "def modularity(G: nx.Graph | nx.MultiGraph):\n",
    "    return nx.community.modularity(\n",
    "        G, [x for x in nx.community.greedy_modularity_communities(G)]\n",
    "    )\n",
    "\n",
    "\n",
    "def printStats(G: nx.Graph | nx.MultiGraph):\n",
    "    ds = [d for _, d in G.degree()]  # type:ignore\n",
    "    paths = [j.values() for (i, j) in nx.shortest_path_length(G)]\n",
    "    avgLength = np.mean([max(j) for j in paths])\n",
    "    maxLength = np.max([max(j) for j in paths])\n",
    "    print(f\"Nodes: {len(G.nodes)}\")\n",
    "    print(f\"Edges: {len(G.edges)}\")\n",
    "    print(f\"Degree: (Min: {np.min(ds)}, Max: {np.max(ds)}, Avg: {np.mean(ds)})\")\n",
    "    print(f\"Connected components: {connectedComponents(G)}\")\n",
    "    print(f\"Avg path length: {avgLength}\")\n",
    "    print(f\"Diameter: {maxLength}\")\n",
    "    print(f\"Radius: {maxLength / 2}\")\n",
    "    print(f\"Average clustering coeff: {avgClusteringCoeff(G)}\")\n",
    "    print(f\"Modularity: {modularity(G)}\")"
   ]
  },
  {
   "cell_type": "markdown",
   "metadata": {},
   "source": [
    "### Create User-User Graph "
   ]
  },
  {
   "cell_type": "code",
   "execution_count": 6,
   "metadata": {},
   "outputs": [
    {
     "name": "stdout",
     "output_type": "stream",
     "text": [
      "4030 4078 2.023821339950372\n"
     ]
    }
   ],
   "source": [
    "df = pandas.read_csv('data/pairwise_52seconds_share.csv')\n",
    "\n",
    "filtered_df = df[df['userID_1'] != df['userID_2']]\n",
    "\n",
    "network = filtered_df[['userID_1', 'userID_2']]\n",
    "\n",
    "G = nx.from_pandas_edgelist(network, 'userID_1', 'userID_2')\n",
    "nx.write_gexf(G, \"networks/all_users.gexf\")\n",
    "\n",
    "n_nodes_og = G.number_of_nodes()\n",
    "n_edges_og = G.number_of_edges()\n",
    "average_degree_og = 2 * n_edges_og / n_nodes_og\n",
    "print(n_nodes_og, n_edges_og, average_degree_og)"
   ]
  },
  {
   "cell_type": "markdown",
   "metadata": {},
   "source": [
    "![Image](renders/UserNet.svg)"
   ]
  },
  {
   "cell_type": "markdown",
   "metadata": {},
   "source": [
    "### WS Graph\n",
    "\n",
    "Analysis of the Watts-Strogatz (WS) Model Fit to the White Helmets Network\n",
    "In exploring the potential of the Watts-Strogatz (WS) model for representing the White Helmets network structure, we aimed to configure a WS model with the same node and edge count as the original network (OG model) while observing five primary network metrics: average degree, path length, diameter, clustering coefficient, and modularity. However, unlike the Barabási–Albert (BA) model, the WS model presented considerable challenges in capturing the network’s structural characteristics. Here's an analysis of the approach, results, and limitations encountered.\n",
    "\n",
    "Initial Attempt: Watts-Strogatz Model Configuration\n",
    "\n",
    "Node and Edge Counts: The WS model was initialized with identical node and edge counts as the White Helmets network, ensuring a basis for comparison across structural metrics.\n",
    "\n",
    "Average Degree: Setting an initial target average degree of 2.02, matching the OG model, was not achievable with the WS model. Adjustments were needed in the connection probability parameter p to control the random edge rewiring. However, maintaining the desired average degree while ensuring network connectivity proved challenging since adjusting p could lead to isolated nodes or disconnected components.\n",
    "\n",
    "Connection Probability and Model Challenges\n",
    "\n",
    "Connection Probability (p): The WS model requires a rewiring probability parameter p to introduce randomness in the network. To avoid isolated nodes and maintain connectivity, we started with a higher value of p (set to 1 initially), which produced a connected network but did not align with the OG network’s average degree or clustering coefficient.\n",
    "\n",
    "Disconnection and Rewiring Issues: With p set to a lower value, as required to reduce edge density, the network often became disconnected, generating isolated clusters that are uncharacteristic of the White Helmets network’s connectivity structure. Therefore, careful control of edge removal and rewiring was essential to approximate the OG model’s structure.\n",
    "\n",
    "Approach: Iterative Edge Removal to Achieve Structural Consistency\n",
    "\n",
    "To overcome these issues, we implemented a custom edge removal function, safe_remove_edge, designed to iteratively remove edges while preventing isolated nodes:\n",
    "\n",
    "Safe Edge Removal: The safe_remove_edge function verifies node degrees before removing an edge to ensure no node becomes isolated. This helps maintain the structural integrity of the network during edge reduction.\n",
    "\n",
    "Controlled Edge Reduction: By removing a fifth of the edges iteratively and checking the number of connected components, we aimed to bring the WS model closer to the OG model’s modular structure without excessive fragmentation.\n",
    "\n",
    "Outcome: Observations and Limitations\n",
    "\n",
    "Component Connectivity: After several iterations, the modified WS network still displayed a different structure from the OG model. The requirement to maintain connectivity while achieving an average degree similar to the OG network proved limiting within the WS framework.\n",
    "\n",
    "Average Degree and Clustering Coefficient: The final average degree was closer to the OG network’s target, but the clustering coefficient remained higher, as the WS model tends to form tightly-knit clusters that differ from the White Helmets network’s more evenly distributed connections.\n",
    "\n",
    "Disconnected Components and Isolated Nodes: Despite controlled edge removal, achieving the correct number of connected components without forming isolated nodes remained challenging. The WS model’s underlying small-world properties did not align well with the White Helmets network’s structural characteristics, suggesting fundamental differences in network topology.\n",
    "\n",
    "Assessment and Conclusion\n",
    "\n",
    "The attempt to replicate the White Helmets network’s structure using the WS model highlighted key mismatches:\n",
    "\n",
    "Degree Distribution: The WS model could not match the OG model’s degree distribution and lacked flexibility in forming the evenly distributed connections seen in the White Helmets network.\n",
    "Path Length and Clustering: The WS model’s small-world characteristics lead to shorter path lengths and higher clustering coefficients than observed in the OG network."
   ]
  },
  {
   "cell_type": "code",
   "execution_count": 9,
   "metadata": {},
   "outputs": [],
   "source": [
    "# WS graph\n",
    "\n",
    "n_nodes_ws = n_nodes_og\n",
    "average_degree_ws = 1000\n",
    "p = 1\n",
    "\n",
    "G_ws = nx.watts_strogatz_graph(n_nodes_ws, average_degree_ws, p)\n",
    "\n",
    "def safe_remove_edge(G, edge):\n",
    "    u, v = edge\n",
    "    # Check degrees before removal\n",
    "    degree_u = G.degree(u)\n",
    "    degree_v = G.degree(v)\n",
    "    \n",
    "    # If removing the edge doesn't isolate any node, proceed\n",
    "    if degree_u > 1 and degree_v > 1:\n",
    "        G.remove_edge(u, v)\n",
    "        return True  # Edge was removed\n",
    "    else:\n",
    "        return False  # Edge was not removed to prevent isolation\n",
    "\n",
    "\n",
    "#Remove edges\n",
    "connected_components = nx.number_connected_components(G_ws)\n",
    "while (connected_components < 1155):\n",
    "    num_edges = G_ws.number_of_edges()\n",
    "    edges = list(G_ws.edges())\n",
    "    num_edges_to_remove = num_edges // 5\n",
    "    edges_to_remove = random.sample(edges, num_edges_to_remove)\n",
    "    for edge in edges_to_remove:\n",
    "        removed = safe_remove_edge(G_ws, edge)\n",
    "    connected_components = nx.number_connected_components(G_ws)\n",
    "\n",
    "\n",
    "nx.write_gexf(G_ws, \"networks/network_ws.gexf\")\n",
    "\n",
    "# Check for isolated nodes\n",
    "isolated_nodes = list(nx.isolates(G_ws))\n",
    "if len(isolated_nodes) > 0:\n",
    "    print(f\"Isolated nodes: {isolated_nodes}\")\n"
   ]
  },
  {
   "cell_type": "code",
   "execution_count": 10,
   "metadata": {},
   "outputs": [
    {
     "name": "stdout",
     "output_type": "stream",
     "text": [
      "-------- WS Network --------\n",
      "Nodes: 4030\n",
      "Edges: 2821\n",
      "Degree: (Min: 1, Max: 7, Avg: 1.4)\n",
      "Connected components: 1209\n",
      "Avg path length: 2.3992555831265507\n",
      "Diameter: 11\n",
      "Radius: 5.5\n",
      "Average clustering coeff: 0.0\n",
      "Modularity: 0.998181838972692\n",
      "\n",
      "-------- Original Network --------\n",
      "Nodes: 4030\n",
      "Edges: 4078\n",
      "Degree: (Min: 1, Max: 9, Avg: 2.023821339950372)\n",
      "Connected components: 1155\n",
      "Avg path length: 3.3406947890818857\n",
      "Diameter: 27\n",
      "Radius: 13.5\n",
      "Average clustering coeff: 0.2997926267281111\n",
      "Modularity: 0.9955115981374059\n"
     ]
    }
   ],
   "source": [
    "print('-------- WS Network --------')\n",
    "printStats(G_ws)\n",
    "\n",
    "print('\\n-------- Original Network --------')\n",
    "printStats(G)\n"
   ]
  },
  {
   "cell_type": "markdown",
   "metadata": {},
   "source": [
    "![Image](renders/WS.svg)"
   ]
  },
  {
   "cell_type": "markdown",
   "metadata": {},
   "source": [
    "## Generating Average Degree Matching Network"
   ]
  },
  {
   "cell_type": "markdown",
   "metadata": {},
   "source": [
    "Given that with the WS model it was impossible to get the average degree right, we decided to get the degree distributions and create from there a degree sequence that could be fed to the nx.configuration_model() function.\n",
    "\n",
    "\n",
    "First, we plot the degree distribution for the whole dataset:"
   ]
  },
  {
   "cell_type": "code",
   "execution_count": 816,
   "metadata": {},
   "outputs": [
    {
     "data": {
      "image/png": "[encoded data removed]",
      "text/plain": [
       "<Figure size 1000x600 with 1 Axes>"
      ]
     },
     "metadata": {},
     "output_type": "display_data"
    }
   ],
   "source": [
    "degree_sequence = [d for _, d in G.degree()]\n",
    "\n",
    "# Count the frequency of each degree\n",
    "degree_count = collections.Counter(degree_sequence)\n",
    "deg, cnt = zip(*degree_count.items())\n",
    "\n",
    "probabilities = [freq / sum(cnt) for freq in cnt]\n",
    "\n",
    "# Plot the degree distribution\n",
    "plt.figure(figsize=(10, 6))\n",
    "plt.bar(deg, cnt, width=0.80, color='b')\n",
    "\n",
    "plt.title(\"Degree Distribution\")\n",
    "plt.xlabel(\"Degree\")\n",
    "plt.ylabel(\"Frequency\")\n",
    "plt.show()"
   ]
  },
  {
   "cell_type": "markdown",
   "metadata": {},
   "source": [
    "Now, we fit this degree distribution to a normal distribution, and sample from it to create our own degree distribution. In the graph we plot the original distribution, the normal distribution derived from it and the newly generated degree samples.\n",
    "\n",
    "For the network generation, we made sure that the sum of the degrees in the sequence is even."
   ]
  },
  {
   "cell_type": "code",
   "execution_count": 837,
   "metadata": {},
   "outputs": [
    {
     "data": {
      "image/png": "[encoded data removed]",
      "text/plain": [
       "<Figure size 1000x600 with 1 Axes>"
      ]
     },
     "metadata": {},
     "output_type": "display_data"
    }
   ],
   "source": [
    "def make_degrees_sum_even(sequence):\n",
    "    if sum(sequence) % 2 != 0:\n",
    "        # Choose a random index\n",
    "        random_index = np.random.choice(len(sequence))\n",
    "        \n",
    "        # Decide whether to add or subtract 1 with 50% probability\n",
    "        adjustment = np.random.choice([1, -1])\n",
    "        \n",
    "        # Apply the adjustment\n",
    "        sequence[random_index] += adjustment\n",
    "    return sequence\n",
    "\n",
    "num_nodes = len(degree_sequence)\n",
    "\n",
    "# Generate a degree sequence following the original degree distribution\n",
    "sampled_degree_sequence = np.random.choice(deg, size=num_nodes, p=probabilities)\n",
    "\n",
    "sampled_degree_sequence = make_degrees_sum_even(sampled_degree_sequence)\n",
    "\n",
    "\n",
    "# Plot the degree distribution comparison\n",
    "plt.figure(figsize=(10, 6))\n",
    "plt.hist(degree_sequence, bins=range(min(degree_sequence), max(degree_sequence)+1), alpha=0.5, label='Original', color='b')\n",
    "plt.hist(sampled_degree_sequence, bins=range(min(degree_sequence), max(degree_sequence)+1), alpha=0.5, label='Sampled', color='r')\n",
    "\n",
    "params = stats.halfnorm.fit(degree_sequence)\n",
    "x = np.linspace(1, max(degree_sequence), 100)\n",
    "pdf_fitted = stats.halfnorm.pdf(x, *params) * sum(cnt)\n",
    "plt.plot(x, pdf_fitted, label='Half-normal fit', color='black')\n",
    "\n",
    "\n",
    "\n",
    "plt.title(\"Degree Distribution Comparison\")\n",
    "plt.xlabel(\"Degree\")\n",
    "plt.ylabel(\"Frequency\")\n",
    "plt.legend()\n",
    "plt.show()"
   ]
  },
  {
   "cell_type": "code",
   "execution_count": 839,
   "metadata": {},
   "outputs": [
    {
     "name": "stdout",
     "output_type": "stream",
     "text": [
      "-------- Avg. degree matching network: --------\n",
      "Nodes: 4030\n",
      "Edges: 4061\n",
      "Degree: (Min: 1, Max: 9, Avg: 2.0153846153846153)\n",
      "Connected components: 328\n",
      "Avg path length: 17.25483870967742\n",
      "Diameter: 28\n",
      "Radius: 14.0\n",
      "Average clustering coeff: -1\n",
      "Modularity: 0.8918583451660277\n",
      "\n",
      "-------- Original network: --------\n",
      "Nodes: 4030\n",
      "Edges: 4078\n",
      "Degree: (Min: 1, Max: 9, Avg: 2.023821339950372)\n",
      "Connected components: 1155\n",
      "Avg path length: 3.3406947890818857\n",
      "Diameter: 27\n",
      "Radius: 13.5\n",
      "Average clustering coeff: 0.2997926267281111\n",
      "Modularity: 0.9955115981374059\n"
     ]
    }
   ],
   "source": [
    "G_simple = nx.configuration_model(sampled_degree_sequence)\n",
    "nx.write_gexf(G_simple, \"networks/simple_network.gexf\")\n",
    "\n",
    "print(\"-------- Avg. degree matching network: --------\")\n",
    "printStats(G_simple)\n",
    "\n",
    "print(\"\\n-------- Original network: --------\")\n",
    "printStats(G)"
   ]
  },
  {
   "cell_type": "markdown",
   "metadata": {},
   "source": [
    "Nodes, edges and degrees are very similar in both models, as well as the size of the networks. However, the generated network has much fewer connected components than the original one. Also, the average path length is much longer than in the original network.\n",
    "\n",
    "Additionally, the average cluster coefficient appears as -1 because it cannot be calculated for the generated network, as the nx.configuration_model() function yields a MultiGraph, which contains loops and parallel edges.\n",
    "\n",
    "From the image it is clear that the main difference with the original network is the presence of a huge cluster in the middle of the graph.\n",
    "\n",
    "![Image](renders/AvgDegreeNet.svg)"
   ]
  },
  {
   "cell_type": "markdown",
   "metadata": {},
   "source": [
    "## Matching Avg. Degree and Connected Components Network\n",
    "\n",
    "In the previous approach, we made a network that had the appropiate average degree, but had too few connected components (CC). In this section, we are going to obtain the size distribution of the CCs. Then we will extract the distribution of the degrees of the nodes for every CC size. Finally, we will use the CC size distribution and the degrees distribution for each size to create each of the components of the network.\n",
    "\n",
    "First, we will obtain the cluster size distribution."
   ]
  },
  {
   "cell_type": "code",
   "execution_count": 869,
   "metadata": {},
   "outputs": [
    {
     "data": {
      "text/plain": [
       "Text(0, 0.5, 'Frequency')"
      ]
     },
     "execution_count": 869,
     "metadata": {},
     "output_type": "execute_result"
    },
    {
     "data": {
      "image/png": "[encoded data removed]",
      "text/plain": [
       "<Figure size 1000x600 with 1 Axes>"
      ]
     },
     "metadata": {},
     "output_type": "display_data"
    }
   ],
   "source": [
    "# Get the diff. network components\n",
    "components = [G.subgraph(component).copy() for component in nx.connected_components(G)]\n",
    "components_list = [list(component) for component in components]\n",
    "component_sizes = [len(component) for component in components_list]\n",
    "\n",
    "#plot histogram for component sizes\n",
    "\n",
    "plt.figure(figsize=(10, 6))\n",
    "plt.hist(component_sizes, bins=range(min(component_sizes), max(component_sizes)+1), color='b')\n",
    "plt.title(\"Component Sizes\")\n",
    "plt.xlabel(\"Size\")\n",
    "plt.ylabel(\"Frequency\")\n"
   ]
  },
  {
   "cell_type": "markdown",
   "metadata": {},
   "source": [
    "As shown in the image, the distribution is not gaussian, so for obtaining the CC size sequence of the generated network we are going to sample directly from this distribution.\n",
    "\n",
    "Now we will define the functions for extracting the degree distribution for each CC size."
   ]
  },
  {
   "cell_type": "code",
   "execution_count": 862,
   "metadata": {},
   "outputs": [],
   "source": [
    "from scipy.stats import truncnorm\n",
    "def fit_truncated_normal(data, lower_bound, size):\n",
    "    # Estimate the parameters of the normal distribution from the data\n",
    "    mu, std = np.mean(data), np.std(data)\n",
    "    if std == 0:\n",
    "        print(size)\n",
    "\n",
    "    # Create a truncated normal distribution with these parameters\n",
    "    a, b = (lower_bound - mu) / std, np.inf\n",
    "    dist = truncnorm(a, b, loc=mu, scale=std)  # Normalize the bounds (no upper bound)\n",
    "    return dist \n",
    "\n",
    "def get_size_component_distribution(components_list, size, plot = False):\n",
    "\n",
    "    selected_indexes = [index for index, component in enumerate(components_list) if len(component) == size]\n",
    "    filtered_components = [components[index] for index in selected_indexes]\n",
    "\n",
    "    degrees = []\n",
    "    degrees = [d for component in filtered_components for _, d in component.degree()]\n",
    "    min_degree = min(degrees)\n",
    "    max_degree = max(degrees)\n",
    "\n",
    "    distribution = fit_truncated_normal(degrees, 0.5, size) # Lower bound is 0.5 because we are rounding to the nearest integer when creating the histogram\n",
    "\n",
    "    if plot:\n",
    "        x = np.linspace(min_degree - 0.5, max_degree + 0.5, 1000)\n",
    "        pdf = distribution.pdf(x)*len(degrees)\n",
    "        plt.figure(figsize=(10, 6))\n",
    "        plt.plot(x + 0.5, pdf, 'k', linewidth=2, label='Fitted Truncated Normal')\n",
    "        plt.hist(degrees, bins=range(int(min_degree), int(max_degree+2)), color='b', label='Original')\n",
    "        sampled_degree_sequence = distribution.rvs(size=len(degrees)).round().astype(int)\n",
    "        plt.hist(sampled_degree_sequence, bins=range(int(min_degree), int(max_degree+2)), color='r', alpha=0.5, label='Sampled')\n",
    "        plt.title(f\"Degree Distribution for component size {size}\")\n",
    "        plt.xlabel(\"Degree\")\n",
    "        plt.ylabel(\"Frequency\")\n",
    "        plt.legend()\n",
    "\n",
    "    return distribution"
   ]
  },
  {
   "cell_type": "markdown",
   "metadata": {},
   "source": [
    "This is an example of the original distribution, the normal distribution and the samples obtained for the degrees of the nodes of a CC of size 6."
   ]
  },
  {
   "cell_type": "code",
   "execution_count": 864,
   "metadata": {},
   "outputs": [
    {
     "data": {
      "text/plain": [
       "<scipy.stats._distn_infrastructure.rv_continuous_frozen at 0x185dafe84d0>"
      ]
     },
     "execution_count": 864,
     "metadata": {},
     "output_type": "execute_result"
    },
    {
     "data": {
      "image/png": "[encoded data removed]",
      "text/plain": [
       "<Figure size 1000x600 with 1 Axes>"
      ]
     },
     "metadata": {},
     "output_type": "display_data"
    }
   ],
   "source": [
    "get_size_component_distribution(components_list, 6, True)\n"
   ]
  },
  {
   "cell_type": "markdown",
   "metadata": {},
   "source": [
    "## Generating the Network"
   ]
  },
  {
   "cell_type": "markdown",
   "metadata": {},
   "source": [
    "### CC size distribution\n",
    "First of all, we will generate the size sequence for the CCs. In the plot there is the comparison between the generated distribution and the original one.\n",
    "\n"
   ]
  },
  {
   "cell_type": "code",
   "execution_count": 865,
   "metadata": {},
   "outputs": [
    {
     "data": {
      "text/plain": [
       "<matplotlib.legend.Legend at 0x185d7fd9750>"
      ]
     },
     "execution_count": 865,
     "metadata": {},
     "output_type": "execute_result"
    },
    {
     "data": {
      "image/png": "[encoded data removed]",
      "text/plain": [
       "<Figure size 1000x600 with 1 Axes>"
      ]
     },
     "metadata": {},
     "output_type": "display_data"
    }
   ],
   "source": [
    "size_count = collections.Counter(component_sizes)\n",
    "size, cnt = zip(*size_count.items())\n",
    "\n",
    "probabilities = [freq / sum(cnt) for freq in cnt]\n",
    "\n",
    "num_components = len(component_sizes)\n",
    "\n",
    "# Generate a degree sequence following the original degree distribution\n",
    "sampled_size_sequence = np.random.choice(size, size=num_components, p=probabilities)\n",
    "\n",
    "plt.figure(figsize=(10, 6))\n",
    "plt.hist(component_sizes, bins=range(min(component_sizes), max(component_sizes)+1), alpha=0.5, label='Original', color='b')\n",
    "plt.hist(sampled_size_sequence, bins=range(min(size), max(size)+1), alpha=0.5, label='Sampled', color='r')\n",
    "plt.title(\"CC Size Distribution Comparison\")\n",
    "plt.xlabel(\"Size\")\n",
    "plt.ylabel(\"Frequency\")\n",
    "plt.legend()"
   ]
  },
  {
   "cell_type": "markdown",
   "metadata": {},
   "source": [
    "### Degree distribution\n",
    "Secondly, we need the degree distribution for each CC size."
   ]
  },
  {
   "cell_type": "code",
   "execution_count": null,
   "metadata": {},
   "outputs": [],
   "source": [
    "# Getting the degree distributions:\n",
    "\n",
    "all_distros = {}\n",
    "\n",
    "for size in range(3, max(component_sizes)+1):\n",
    "    if size not in component_sizes:\n",
    "        continue\n",
    "    distribution = get_size_component_distribution(components_list, size, False)\n",
    "    all_distros[size] = distribution"
   ]
  },
  {
   "cell_type": "markdown",
   "metadata": {},
   "source": [
    "Finally, we construct the network one component at a time by sampling the component size from the size distribution and generating a degree sequence by sampling from the degree distribution for that component size. All this components will be merged into a network."
   ]
  },
  {
   "cell_type": "code",
   "execution_count": null,
   "metadata": {},
   "outputs": [
    {
     "name": "stdout",
     "output_type": "stream",
     "text": [
      "Nodes: 4008\n",
      "Edges: 4225\n",
      "Degree: (Min: 1, Max: 11, Avg: 2.1082834331337326)\n",
      "Connected components: 1177\n",
      "Avg path length: 2.3792415169660677\n",
      "Diameter: 15\n",
      "Radius: 7.5\n",
      "Average clustering coeff: -1\n",
      "Modularity: 0.9887400581211767\n"
     ]
    }
   ],
   "source": [
    "G_gen = nx.MultiGraph()\n",
    "\n",
    "node_offset = 0\n",
    "\n",
    "count = 0\n",
    "\n",
    "for n_component in range(num_components):\n",
    "    size = sampled_size_sequence[n_component]\n",
    "    if (size == 2):\n",
    "        degree_sequence = [1, 1]\n",
    "    else:\n",
    "        distribution = all_distros[size]\n",
    "        degree_sequence = []\n",
    "        for _ in range(size):\n",
    "            degree = distribution.rvs().round().astype(int)\n",
    "            if degree < 1:\n",
    "                print('Degree < 1')\n",
    "            degree_sequence.append(degree)\n",
    "            \n",
    "    degree_sequence = make_degrees_sum_even(degree_sequence)\n",
    "    Component = nx.configuration_model(degree_sequence)\n",
    "    mapping = {node: node + node_offset for node in Component.nodes()}\n",
    "    Component = nx.relabel_nodes(Component, mapping)\n",
    "    \n",
    "    node_offset += size\n",
    "    \n",
    "    G_gen = nx.compose(G_gen, Component)\n",
    "\n"
   ]
  },
  {
   "cell_type": "markdown",
   "metadata": {},
   "source": [
    "Before comparing this network with the original, we need to remove self-loops and isolated nodes, as these do not align with the nature of the original dataset."
   ]
  },
  {
   "cell_type": "code",
   "execution_count": null,
   "metadata": {},
   "outputs": [
    {
     "name": "stdout",
     "output_type": "stream",
     "text": [
      "-------- Generated network: --------\n",
      "Nodes: 4008\n",
      "Edges: 4225\n",
      "Degree: (Min: 1, Max: 11, Avg: 2.1082834331337326)\n",
      "Connected components: 1177\n",
      "Avg path length: 2.3792415169660677\n",
      "Diameter: 15\n",
      "Radius: 7.5\n",
      "Average clustering coeff: -1\n",
      "Modularity: 0.9887400581211767\n",
      "\n",
      "-------- Original network: --------\n",
      "Nodes: 4030\n",
      "Edges: 4078\n",
      "Degree: (Min: 1, Max: 9, Avg: 2.023821339950372)\n",
      "Connected components: 1155\n",
      "Avg path length: 3.3406947890818857\n",
      "Diameter: 27\n",
      "Radius: 13.5\n",
      "Average clustering coeff: 0.2997926267281111\n",
      "Modularity: 0.9955115981374059\n"
     ]
    }
   ],
   "source": [
    "# Remove self-loops\n",
    "G_gen.remove_edges_from(nx.selfloop_edges(G_gen))\n",
    "\n",
    "# Remove isolated nodes\n",
    "G_gen.remove_nodes_from(list(nx.isolates(G_gen)))\n",
    "\n",
    "\n",
    "print(\"-------- Generated network: --------\")\n",
    "printStats(G_gen)\n",
    "\n",
    "print(\"\\n-------- Original network: --------\")\n",
    "printStats(G)"
   ]
  },
  {
   "cell_type": "markdown",
   "metadata": {},
   "source": [
    "With this newly generated network only the size of the network and the average path length differ slightly from the original one. Again, the clustering coefficient cannot be displayed, as the network generation was done using multigraphs.\n",
    "\n",
    "Even though this metrics are really promising, there is one key difference between this new network and the original: The new network contains parallel edges, whereas the original network doesn't."
   ]
  },
  {
   "cell_type": "code",
   "execution_count": 868,
   "metadata": {},
   "outputs": [
    {
     "name": "stdout",
     "output_type": "stream",
     "text": [
      "-------- Generated network (with no parallel edges): --------\n",
      "Nodes: 4008\n",
      "Edges: 3882\n",
      "Degree: (Min: 1, Max: 11, Avg: 1.937125748502994)\n",
      "Connected components: 1177\n",
      "Avg path length: 2.3792415169660677\n",
      "Diameter: 15\n",
      "Radius: 7.5\n",
      "Average clustering coeff: 0.11181462831911913\n",
      "Modularity: 0.987688856294123\n",
      "\n",
      "-------- Original network: --------\n",
      "Nodes: 4030\n",
      "Edges: 4078\n",
      "Degree: (Min: 1, Max: 9, Avg: 2.023821339950372)\n",
      "Connected components: 1155\n",
      "Avg path length: 3.3406947890818857\n",
      "Diameter: 27\n",
      "Radius: 13.5\n",
      "Average clustering coeff: 0.2997926267281111\n",
      "Modularity: 0.9955115981374059\n"
     ]
    }
   ],
   "source": [
    "G_gen_no_parallel = nx.Graph(G_gen)\n",
    "nx.write_gexf(G_gen_no_parallel, \"networks/generated_network.gexf\")\n",
    "\n",
    "print(\"-------- Generated network (with no parallel edges): --------\")\n",
    "printStats(G_gen_no_parallel)\n",
    "\n",
    "print(\"\\n-------- Original network: --------\")\n",
    "printStats(G)"
   ]
  },
  {
   "cell_type": "markdown",
   "metadata": {},
   "source": [
    "When we remove the parallel edges, the total number of edges and the average degree are slightly lower than in the original network. Additionally, the average clustering coefficient is noticeably smaller in the generated network.\n",
    "\n",
    "The number of connected components (CCs) is also slightly higher than in the original network. This may be surprising, given that each component was created separately. However, this can be attributed to the use of the nx.configuration_model() function, which does not always produce a fully connected network.\n",
    "\n",
    "From the image, the primary difference compared to the original network is that the larger connected components appear more interconnected in the generated version.\n",
    "\n",
    "![Image](renders/CCNet.svg)"
   ]
  },
  {
   "cell_type": "markdown",
   "metadata": {},
   "source": [
    "## Conclusions\n",
    "\n",
    "By using the nx.configuration_model() function, we were able to recreate the original network almost perfectly, although we did not fully match the number of edges. This issue could potentially be addressed by adding a correction term to the degree distributions to make the average node degree more comparable between the networks. However, we leave this possibility for future research."
   ]
  }
 ],
 "metadata": {
  "kernelspec": {
   "display_name": "env",
   "language": "python",
   "name": "python3"
  },
  "language_info": {
   "codemirror_mode": {
    "name": "ipython",
    "version": 3
   },
   "file_extension": ".py",
   "mimetype": "text/x-python",
   "name": "python",
   "nbconvert_exporter": "python",
   "pygments_lexer": "ipython3",
   "version": "3.11.5"
  }
 },
 "nbformat": 4,
 "nbformat_minor": 2
}
