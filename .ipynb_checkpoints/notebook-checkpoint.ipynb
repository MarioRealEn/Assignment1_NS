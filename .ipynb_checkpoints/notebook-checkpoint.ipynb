{
 "cells": [
  {
   "cell_type": "markdown",
   "metadata": {},
   "source": [
    "# Flash 1 submission\n",
    "\n",
    "Team members:\n",
    "* Real Mario\n",
    "* Fake Mario\n",
    "* Suspicious Mario\n",
    "* Derrick Timmermans"
   ]
  },
  {
   "cell_type": "markdown",
   "metadata": {},
   "source": [
    "## Boilerplate code"
   ]
  },
  {
   "cell_type": "markdown",
   "metadata": {},
   "source": [
    "### Imports"
   ]
  },
  {
   "cell_type": "code",
   "execution_count": null,
   "metadata": {},
   "outputs": [],
   "source": [
    "import networkx\n",
    "from datetime import datetime\n",
    "import csv\n",
    "from typing import Any\n",
    "from itertools import combinations\n",
    "import pandas\n",
    "import networkx as nx\n",
    "import random as random\n",
    "import collections\n",
    "import matplotlib.pyplot as plt\n",
    "import numpy as np\n"
   ]
  },
  {
   "cell_type": "markdown",
   "metadata": {},
   "source": [
    "### Basic types and aliases"
   ]
  },
  {
   "cell_type": "code",
   "execution_count": 58,
   "metadata": {},
   "outputs": [],
   "source": [
    "# Just a struct to more easily represent collected entries\n",
    "from dataclasses import dataclass\n",
    "\n",
    "from typing import Hashable\n",
    "\n",
    "Node = Hashable\n",
    "Edge = tuple[Node, Node]\n",
    "WeightedEdgeDict = dict[Edge, int]\n",
    "\n",
    "@dataclass\n",
    "class EntryStruct:\n",
    "    def __init__(\n",
    "        self,\n",
    "        videoID: str,\n",
    "        user1: str,\n",
    "        user2: str,\n",
    "        timestamp1: datetime,\n",
    "        timestamp2: datetime,\n",
    "    ) -> None:\n",
    "        self.user1 = user1\n",
    "        self.user2 = user2\n",
    "        self.timestamp1 = timestamp1\n",
    "        self.timestamp2 = timestamp2\n",
    "        self.videoID = videoID\n",
    "        pass\n",
    "\n",
    "    @classmethod\n",
    "    def datetimeFromCSVTimestamp(cls, csvTimestamp: str):\n",
    "        return datetime.strptime(csvTimestamp, \"%Y-%m-%d %H:%M:%S\")\n",
    "\n",
    "    @classmethod\n",
    "    def fromEntryRow(cls, row: dict[str, Any]):\n",
    "        return EntryStruct(\n",
    "            row[\"videoID\"],\n",
    "            row[\"userID_1\"],\n",
    "            row[\"userID_2\"],\n",
    "            cls.datetimeFromCSVTimestamp(row[\"timestamp_1\"]),\n",
    "            cls.datetimeFromCSVTimestamp(row[\"timestamp_2\"]),\n",
    "        )"
   ]
  },
  {
   "cell_type": "markdown",
   "metadata": {},
   "source": [
    "## Processing the dataset"
   ]
  },
  {
   "cell_type": "markdown",
   "metadata": {},
   "source": [
    "### Loading the data set"
   ]
  },
  {
   "cell_type": "code",
   "execution_count": 59,
   "metadata": {},
   "outputs": [],
   "source": [
    "entries: list[EntryStruct] = []\n",
    "\n",
    "with open(\"pairwise_52seconds_share.csv\", newline=\"\") as csvfile:\n",
    "    csvreader = csv.DictReader(csvfile)\n",
    "    entries = [EntryStruct.fromEntryRow(row) for row in csvreader]"
   ]
  },
  {
   "cell_type": "markdown",
   "metadata": {},
   "source": [
    "### Creating nodes for each unique user / video within the data set"
   ]
  },
  {
   "cell_type": "code",
   "execution_count": 60,
   "metadata": {},
   "outputs": [],
   "source": [
    "userNodes = set[Node]()\n",
    "videoNodes = set[Node]()\n",
    "\n",
    "for entry in entries:\n",
    "    userNodes.add(entry.user1)\n",
    "    userNodes.add(entry.user2)\n",
    "    videoNodes.add(entry.videoID)"
   ]
  },
  {
   "cell_type": "markdown",
   "metadata": {},
   "source": [
    "### Computing trends and edges"
   ]
  },
  {
   "cell_type": "code",
   "execution_count": null,
   "metadata": {},
   "outputs": [],
   "source": [
    "UserEngagementEdges: WeightedEdgeDict = {}\n",
    "EngagementTargetEdges: WeightedEdgeDict = {}\n",
    "VideoEngagementPeriodEdges: WeightedEdgeDict = {}\n",
    "RelationEdges: WeightedEdgeDict = {}\n",
    "\n",
    "userEngagementNodes = set[Node]()\n",
    "engagementPeriodNodes = set[Node]()\n",
    "\n",
    "\n",
    "# Helper function to increment edge weights when the edge already exist\n",
    "def addOrUpdateEdge(edgesDict: WeightedEdgeDict, edge: Edge):\n",
    "    edgesDict[edge] = edgesDict[edge] + 1 if edge in edgesDict else 1\n",
    "\n",
    "\n",
    "# Create a chronologically ordered list of all video sharing activity by each user\n",
    "# Due to the usage of sets, this will also filter erroneous entries where the same user shared the same video multiple times at the same time\n",
    "shareEvents = list(\n",
    "    set(\n",
    "        [(e.user1, e.timestamp1, e.videoID) for e in entries]\n",
    "        + [(e.user2, e.timestamp2, e.videoID) for e in entries]\n",
    "    )\n",
    ")\n",
    "\n",
    "# Sorting in-place rather than a sort+copy via `sorted()`\n",
    "shareEvents.sort(key=lambda tup: tup[1])\n",
    "\n",
    "# This copy of share events is augmented with the probable starting date time of a trend\n",
    "augmentedShareEvents = list[tuple[str, datetime, str, datetime]]()\n",
    "\n",
    "lastTime: datetime = datetime(1980, 1, 1)\n",
    "currentTimeStampBatch = datetime(1980, 1, 1)\n",
    "\n",
    "# Let's try to assign each share event into a trend period\n",
    "for event in shareEvents:\n",
    "    # A datetime is the original of it's own trend period if it is more than 24 hrs apart since the last share datetime\n",
    "    # Each trend period will get its own node to represent the preiod\n",
    "    if (event[1] - lastTime).total_seconds() > 60 * 60 * 24:\n",
    "        currentTimeStampBatch = event[1]\n",
    "        engagementPeriodNodes.add(currentTimeStampBatch)\n",
    "\n",
    "    lastTime = event[1]\n",
    "    augmentedShareEvents.append((event[0], currentTimeStampBatch, event[2], event[1]))\n",
    "\n",
    "# Let's try to find pairs of users who shared the same video within a 52 second timespan\n",
    "# Bloom: Yes I know that the original dataset contained that information,\n",
    "#   yet I am excluding it since I then adjust the \"closeness interval\" to something else if I desire\n",
    "pairs = [\n",
    "    item\n",
    "    for item in combinations(augmentedShareEvents, 2)\n",
    "    if abs((item[0][3] - item[1][3]).total_seconds()) < 52\n",
    "    and item[0][2] == item[1][2]  # Video must be the same\n",
    "]\n",
    "\n",
    "# Add bidirectional edges for share buddies\n",
    "for item in pairs:\n",
    "    addOrUpdateEdge(RelationEdges, (item[0][0], item[1][0]))\n",
    "    addOrUpdateEdge(RelationEdges, (item[1][0], item[0][0]))\n",
    "\n",
    "# Add edges for each share event\n",
    "for event in augmentedShareEvents:\n",
    "    # Add weight to an edge between the user and the trend node\n",
    "    addOrUpdateEdge(EngagementTargetEdges, (event[0], event[1]))\n",
    "\n",
    "    # Add weight to an edge between the trend node and the target video\n",
    "    addOrUpdateEdge(VideoEngagementPeriodEdges, (event[1], event[2]))"
   ]
  },
  {
   "cell_type": "markdown",
   "metadata": {},
   "source": [
    "## Creating the graph"
   ]
  },
  {
   "cell_type": "markdown",
   "metadata": {},
   "source": [
    "### Helper functions"
   ]
  },
  {
   "cell_type": "code",
   "execution_count": 62,
   "metadata": {},
   "outputs": [],
   "source": [
    "nodeID = 0\n",
    "nodeIDMap: dict[str, int] = {}\n",
    "# This function is used to assign simpler IDs for node identifiers\n",
    "def getNodeIDFor(label: Any):\n",
    "    global nodeID\n",
    "    if label in nodeIDMap:\n",
    "        return nodeIDMap[label]\n",
    "\n",
    "    nodeIDMap[label] = nodeID\n",
    "    nodeID += 1\n",
    "    return nodeIDMap[label]\n",
    "\n",
    "def addEdgesToGraph(\n",
    "    G: networkx.Graph, edges: WeightedEdgeDict, edgeType: str, bidirectional=False\n",
    "):\n",
    "    for edge in edges:\n",
    "        weight = edges[edge]\n",
    "        u = getNodeIDFor(edge[0])\n",
    "        v = getNodeIDFor(edge[1])\n",
    "        G.add_edge(u, v, edgeType=edgeType, weight=weight)\n",
    "        if bidirectional:\n",
    "            G.add_edge(v, u, edgeType=edgeType, weight=weight)\n",
    "\n",
    "def addNodesToGraph(G: networkx.Graph, nodes: set[Node], nodeType: str):\n",
    "    for node in nodes:\n",
    "        G.add_node(getNodeIDFor(node), type=nodeType, label=node)\n"
   ]
  },
  {
   "cell_type": "code",
   "execution_count": null,
   "metadata": {},
   "outputs": [
    {
     "name": "stdout",
     "output_type": "stream",
     "text": [
      "4476\n",
      "12518\n"
     ]
    }
   ],
   "source": [
    "G_ws = networkx.DiGraph()\n",
    "\n",
    "addNodesToGraph(G_ws, engagementPeriodNodes, \"EngagementPeriod\")\n",
    "addNodesToGraph(G_ws, userNodes, \"User\")\n",
    "addNodesToGraph(G_ws, videoNodes, \"Video\")\n",
    "\n",
    "addEdgesToGraph(G_ws, RelationEdges, \"RelationEdges\")\n",
    "addEdgesToGraph(G_ws, VideoEngagementPeriodEdges, \"EngagementPeriodEdge\")\n",
    "addEdgesToGraph(G_ws, EngagementTargetEdges, \"EngagementTarget\")\n",
    "\n",
    "\n",
    "print(G_ws.number_of_nodes())\n",
    "print(G_ws.number_of_edges())"
   ]
  },
  {
   "cell_type": "markdown",
   "metadata": {},
   "source": [
    "### Exporting to gexf"
   ]
  },
  {
   "cell_type": "markdown",
   "metadata": {},
   "source": []
  },
  {
   "cell_type": "code",
   "execution_count": null,
   "metadata": {},
   "outputs": [],
   "source": [
    "networkx.write_gexf(G_ws, \"graph.gexf\")"
   ]
  },
  {
   "cell_type": "markdown",
   "metadata": {},
   "source": [
    "### Render using gephi\n",
    "\n",
    "The above `.gexf` file can be imported into Gephi, in order to render/visualize the network. \n",
    "\n",
    "The following are the steps I've taken:\n",
    "1. Color the nodes based on `Type` attribute\n",
    "2. Size the nodes based on `Weighted in-degree`\n",
    "   * Min size = 10\n",
    "   * Max Size = 150\n",
    "   * Spline easing = Circular\n",
    "3. Ran the ForceAtlas2 layouting algorithm\n",
    "   * Default settings, with `Gravity=500` and `Scaling=100` \n",
    "4. Color the edges based on the target node's color\n",
    "5. Rescaled the edge weights to $[10, 100]$"
   ]
  },
  {
   "cell_type": "markdown",
   "metadata": {},
   "source": [
    "The following image shows the processed dataset from above.\n",
    "\n",
    "* Green nodes are Trend node, indicating a lot of activity all occurring within a day of each other.\n",
    "* Purple nodes are Users.\n",
    "* Orange nodes are Videos."
   ]
  },
  {
   "cell_type": "markdown",
   "metadata": {},
   "source": [
    "\n",
    "\n",
    "![Image](Gephi-render.svg)"
   ]
  },
  {
   "cell_type": "markdown",
   "metadata": {},
   "source": [
    "### Create User-User Graph "
   ]
  },
  {
   "cell_type": "code",
   "execution_count": 4,
   "metadata": {},
   "outputs": [
    {
     "name": "stdout",
     "output_type": "stream",
     "text": [
      "4030 4078 2.023821339950372\n"
     ]
    }
   ],
   "source": [
    "df = pandas.read_csv('pairwise_52seconds_share.csv')\n",
    "\n",
    "filtered_df = df[df['userID_1'] != df['userID_2']]\n",
    "\n",
    "network = filtered_df[['userID_1', 'userID_2']]\n",
    "\n",
    "G = nx.from_pandas_edgelist(network, 'userID_1', 'userID_2')\n",
    "nx.write_gexf(G, \"all_users.gexf\")\n",
    "\n",
    "n_nodes_og = G.number_of_nodes()\n",
    "n_edges_og = G.number_of_edges()\n",
    "average_degree_og = 2 * n_edges_og / n_nodes_og\n",
    "print(n_nodes_og, n_edges_og, average_degree_og)"
   ]
  },
  {
   "cell_type": "code",
   "execution_count": null,
   "metadata": {},
   "outputs": [],
   "source": []
  },
  {
   "cell_type": "markdown",
   "metadata": {},
   "source": [
    "### WS Graph\n",
    "\n",
    "Here show why creating a WS graph would not work (for obtaining p the graph needs to be connected, we were not getting the avg degree right,...) and then show the approach of removing edges"
   ]
  },
  {
   "cell_type": "code",
   "execution_count": 5,
   "metadata": {},
   "outputs": [
    {
     "name": "stdout",
     "output_type": "stream",
     "text": [
      "1\n",
      "1\n",
      "1\n",
      "1\n",
      "1\n",
      "1\n",
      "1\n",
      "1\n",
      "1\n",
      "1\n",
      "1\n",
      "1\n",
      "1\n",
      "1\n",
      "1\n",
      "1\n",
      "1\n",
      "1\n",
      "1\n",
      "1\n",
      "1\n",
      "1\n",
      "1\n",
      "2\n",
      "4\n",
      "8\n",
      "28\n",
      "75\n",
      "181\n",
      "352\n",
      "584\n",
      "837\n",
      "1058\n",
      "1202\n",
      "Final:  1202\n",
      "Isolated nodes: []\n"
     ]
    }
   ],
   "source": [
    "# WS graph\n",
    "\n",
    "n_nodes_ws = n_nodes_og\n",
    "average_degree_ws = 1000\n",
    "p = 1\n",
    "print(p)\n",
    "\n",
    "G_ws = nx.watts_strogatz_graph(n_nodes_ws, average_degree_ws, p)\n",
    "\n",
    "def safe_remove_edge(G, edge):\n",
    "    u, v = edge\n",
    "    # Check degrees before removal\n",
    "    degree_u = G.degree(u)\n",
    "    degree_v = G.degree(v)\n",
    "    \n",
    "    # If removing the edge doesn't isolate any node, proceed\n",
    "    if degree_u > 1 and degree_v > 1:\n",
    "        G.remove_edge(u, v)\n",
    "        return True  # Edge was removed\n",
    "    else:\n",
    "        return False  # Edge was not removed to prevent isolation\n",
    "\n",
    "\n",
    "#Remove edges\n",
    "connected_components = nx.number_connected_components(G_ws)\n",
    "while (connected_components < 1155):\n",
    "    num_edges = G_ws.number_of_edges()\n",
    "    edges = list(G_ws.edges())\n",
    "    num_edges_to_remove = num_edges // 5\n",
    "    edges_to_remove = random.sample(edges, num_edges_to_remove)\n",
    "    for edge in edges_to_remove:\n",
    "        removed = safe_remove_edge(G_ws, edge)\n",
    "    connected_components = nx.number_connected_components(G_ws)\n",
    "    print(connected_components)\n",
    "\n",
    "print('Final: ', nx.number_connected_components(G_ws))\n",
    "\n",
    "nx.write_gexf(G_ws, \"network_ws.gexf\")\n",
    "\n",
    "# Check for isolated nodes\n",
    "isolated_nodes = list(nx.isolates(G_ws))\n",
    "print(\"Isolated nodes:\", isolated_nodes)\n"
   ]
  },
  {
   "cell_type": "code",
   "execution_count": 6,
   "metadata": {},
   "outputs": [
    {
     "data": {
      "text/plain": [
       "1.4034739454094294"
      ]
     },
     "execution_count": 6,
     "metadata": {},
     "output_type": "execute_result"
    }
   ],
   "source": [
    "average_degree_ws = 2 * G_ws.number_of_edges() / G_ws.number_of_nodes()\n",
    "average_degree_ws"
   ]
  },
  {
   "cell_type": "markdown",
   "metadata": {},
   "source": [
    "### Generating average degree matching network"
   ]
  },
  {
   "cell_type": "code",
   "execution_count": 7,
   "metadata": {},
   "outputs": [
    {
     "data": {
      "image/png": "[encoded data removed]",
      "text/plain": [
       "<Figure size 1000x600 with 1 Axes>"
      ]
     },
     "metadata": {},
     "output_type": "display_data"
    }
   ],
   "source": [
    "degree_sequence = [d for _, d in G.degree()]\n",
    "\n",
    "# Count the frequency of each degree\n",
    "degree_count = collections.Counter(degree_sequence)\n",
    "deg, cnt = zip(*degree_count.items())\n",
    "\n",
    "probabilities = [freq / sum(cnt) for freq in cnt]\n",
    "\n",
    "# Plot the degree distribution\n",
    "plt.figure(figsize=(10, 6))\n",
    "plt.bar(deg, cnt, width=0.80, color='b')\n",
    "\n",
    "plt.title(\"Degree Distribution\")\n",
    "plt.xlabel(\"Degree\")\n",
    "plt.ylabel(\"Frequency\")\n",
    "plt.show()"
   ]
  },
  {
   "cell_type": "code",
   "execution_count": null,
   "metadata": {},
   "outputs": [
    {
     "name": "stdout",
     "output_type": "stream",
     "text": [
      "286\n"
     ]
    },
    {
     "data": {
      "image/png": "[encoded data removed]",
      "text/plain": [
       "<Figure size 1000x600 with 1 Axes>"
      ]
     },
     "metadata": {},
     "output_type": "display_data"
    }
   ],
   "source": [
    "num_nodes = len(degree_sequence)\n",
    "\n",
    "# Generate a degree sequence following the original degree distribution\n",
    "sampled_degree_sequence = np.random.choice(deg, size=num_nodes, p=probabilities)\n",
    "\n",
    "G_simple = nx.configuration_model(sampled_degree_sequence)\n",
    "nx.write_gexf(G_simple, \"simple_network.gexf\")\n",
    "print(nx.number_connected_components(G_simple))\n",
    "\n",
    "degree_sequence_generated = [d for _, d in G_simple.degree()]\n",
    "\n",
    "# Plot the degree distribution comparison\n",
    "plt.figure(figsize=(10, 6))\n",
    "plt.hist(degree_sequence, bins=range(min(degree_sequence), max(degree_sequence)+1), alpha=0.5, label='Original', color='b')\n",
    "plt.hist(degree_sequence_generated, bins=range(min(degree_sequence), max(degree_sequence)+1), alpha=0.5, label='Sampled', color='r')\n",
    "\n",
    "plt.title(\"Degree Distribution Comparison\")\n",
    "plt.xlabel(\"Degree\")\n",
    "plt.ylabel(\"Frequency\")\n",
    "plt.legend()\n",
    "plt.show()"
   ]
  }
 ],
 "metadata": {
  "kernelspec": {
   "display_name": "Python 3 (ipykernel)",
   "language": "python",
   "name": "python3"
  },
  "language_info": {
   "codemirror_mode": {
    "name": "ipython",
    "version": 3
   },
   "file_extension": ".py",
   "mimetype": "text/x-python",
   "name": "python",
   "nbconvert_exporter": "python",
   "pygments_lexer": "ipython3",
   "version": "3.10.1"
  }
 },
 "nbformat": 4,
 "nbformat_minor": 2
}
