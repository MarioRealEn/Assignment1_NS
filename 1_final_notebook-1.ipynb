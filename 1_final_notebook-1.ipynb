{
 "cells": [
  {
   "cell_type": "markdown",
   "id": "09b9aa9d-2b8e-483b-b834-54247f746818",
   "metadata": {},
   "source": [
    "# Flash 1 Assignment Submission\n",
    "\n",
    "#### Team members:\n",
    "* Mario Real Enrique\n",
    "* Derrick Timmermans\n",
    "* Casper Bröcheler\n",
    "* Ron J Dsilva"
   ]
  },
  {
   "cell_type": "markdown",
   "id": "328ed92e",
   "metadata": {},
   "source": [
    "## Introduction\n",
    "This assignment investigates the structural characteristics of a network derived from the White Helmets dataset and compares these characteristics with those of synthetic networks generated through classical models. By contrasting the White Helmets network with baseline generative models, we aim to assess how \"expected\" or \"unexpected\" its structure is relative to standard network generation methods. Specifically, we select at least five critical network metrics—such as degree distribution, clustering coefficient, path length, modularity, and component sizes—to provide a comprehensive comparison. These metrics help highlight the unique properties of the White Helmets network against theoretically established models.\n",
    "\n",
    "In this study, we implement and evaluate multiple generative models, including the \n",
    "- Barabási–Albert (BA) model, \n",
    "- the Watts-Strogatz (WS) model, \n",
    "- configuration model,\n",
    "- and Erdos-Renyi (ER) model. \n",
    "\n",
    "Each model serves as a different baseline, capturing characteristics like scale-free structure, small-world properties, or random connectivity. Through empirical evaluation of these models against the White Helmets network, we explore to what extent its structural properties align with the \"expected\" configurations of synthetic networks, contributing to a better understanding of the dataset's social network dynamics.\n",
    "\n"
   ]
  },
  {
   "cell_type": "markdown",
   "id": "9c0826f4",
   "metadata": {},
   "source": [
    "## Table of Contents\n",
    "\n",
    "### Chapter 1: Constructing the Original User-User Graph from the Dataset\n",
    "In this chapter, we build the foundational user-user network directly from the White Helmets dataset, capturing relationships between users based on interaction data. This graph serves as a baseline for comparison with synthetic network models.\n",
    "\n",
    "#### Chapter 1.1: Applying a Modified Barabási–Albert Model to the User-User Network\n",
    "Here, we adapt the Barabási–Albert model to examine how well a scale-free network can emulate the structural properties of the original user-user graph.\n",
    "\n",
    "#### Chapter 1.2: Using a Modified Watts-Strogatz Model to Analyze User-User Network Structure\n",
    "This section explores the user-user network using a Watts-Strogatz model variant, focusing on small-world properties like clustering and path length.\n",
    "\n",
    "#### Chapter 1.3: Analyzing the User-User Network with a Modified Configuration Model\n",
    "We employ a configuration model tailored to match the degree distribution of the user-user network, allowing us to investigate the role of degree-preserving structures in the dataset and assess expected versus observed connectivity patterns.\n",
    "\n",
    "### Chapter 2: Independent Edge-Type Analysis\n",
    "In this chapter, we will create a model where edge types are treated independently. We create separate subgraphs for user-user and user-video interactions, enabling us to study each relationship type individually and evaluate how these isolated networks contribute to the overall structure.\n",
    "\n",
    "### Bonus: Constructing a Comprehensive Multi-Node Graph Incorporating All Dataset Entities\n",
    "In this bonus section, we expand the network analysis by constructing a comprehensive graph that includes all entity types from the dataset—not limited to user-user interactions.\n"
   ]
  },
  {
   "cell_type": "markdown",
   "id": "09162ef0-6623-48f9-9920-379c3a71c9a1",
   "metadata": {},
   "source": [
    "### Imports for the code"
   ]
  },
  {
   "cell_type": "code",
   "execution_count": 1,
   "id": "008cd5cf-ea48-4c42-a458-be2241f0d5a5",
   "metadata": {},
   "outputs": [],
   "source": [
    "import networkx\n",
    "from datetime import datetime\n",
    "import csv\n",
    "from typing import Any\n",
    "from itertools import combinations\n",
    "import pandas\n",
    "import networkx as nx\n",
    "import random as random\n",
    "import collections\n",
    "import matplotlib.pyplot as plt\n",
    "import numpy as np\n",
    "import scipy.stats as stats\n",
    "import math\n",
    "import scipy.stats as stats\n"
   ]
  },
  {
   "cell_type": "markdown",
   "id": "362f9365-900c-4d3c-a934-903389c5e548",
   "metadata": {},
   "source": [
    "## Chapter 1: Create User-User Graph "
   ]
  },
  {
   "cell_type": "markdown",
   "id": "bce164a2-36b9-4ea3-b618-765673ef48d2",
   "metadata": {},
   "source": [
    "In this section, the code reads the White Helmets dataset and processes it to build a network graph. After loading the dataset, it filters out self-links to focus on unique interactions between different users, which is crucial for accurately modeling the network's social structure. The edges between users are extracted and transformed into a graph using NetworkX, representing the connections between users as nodes and their interactions as edges. This step is fundamental as it converts raw data into a graph format, setting the stage for analyzing the structure and comparing it against baseline network models. The printStats function then provides an initial statistical summary, offering insights into the actual network's structure as a baseline for further comparison."
   ]
  },
  {
   "cell_type": "markdown",
   "id": "4cca1cc1",
   "metadata": {},
   "source": [
    "We start of by presenting the following code which defines several utility functions to analyze graphs, essential for the network analysis of the White Helmets dataset. Helper functions such as `connectedComponents`, `avgClusteringCoeff`, and `modularity` compute key graph metrics: the number of connected components, average clustering coefficient, and modularity, respectively. These metrics help compare the generated network to real-world data. Finally, `printStats` provides a summary of network characteristics, including node and edge count, degree statistics, path lengths, clustering coefficient, and modularity. These metrics allow for a quantitative comparison between different network models and the White Helmets dataset."
   ]
  },
  {
   "cell_type": "code",
   "execution_count": 2,
   "id": "2798731f-3197-422b-bde6-5bec9784de56",
   "metadata": {},
   "outputs": [],
   "source": [
    "# Helper functions for computing the stats of a graph\n",
    "def connectedComponents(G: nx.Graph):\n",
    "    return len([c for c in nx.connected_components(G)])\n",
    "\n",
    "def avgClusteringCoeff(G: nx.Graph):\n",
    "    try:\n",
    "        clst = nx.clustering(G)\n",
    "\n",
    "        sum = np.sum([i for i in clst.values()])\n",
    "        cnt = len(clst)\n",
    "    except:\n",
    "        return -1\n",
    "\n",
    "    return sum / cnt\n",
    "\n",
    "def modularity(G: nx.Graph):\n",
    "    return nx.community.modularity(\n",
    "        G, [x for x in nx.community.greedy_modularity_communities(G)]\n",
    "    )\n",
    "\n",
    "\n",
    "def printStats(G: nx.Graph):\n",
    "    ds = [d for _, d in G.degree()]  # type:ignore\n",
    "    paths = [j.values() for (i, j) in nx.shortest_path_length(G)]\n",
    "    avgLength = np.mean([max(j) for j in paths])\n",
    "    maxLength = np.max([max(j) for j in paths])\n",
    "    print(f\"Nodes: {len(G.nodes)}\")\n",
    "    print(f\"Edges: {len(G.edges)}\")\n",
    "    print(f\"Degree: (Min: {np.min(ds)}, Max: {np.max(ds)}, Avg: {np.mean(ds)})\")\n",
    "    print(f\"Connected components: {connectedComponents(G)}\")\n",
    "    print(f\"Avg path length: {avgLength}\")\n",
    "    print(f\"Diameter: {maxLength}\")\n",
    "    print(f\"Radius: {maxLength / 2}\")\n",
    "    print(f\"Average clustering coeff: {avgClusteringCoeff(G)}\")\n",
    "    print(f\"Modularity: {modularity(G)}\")"
   ]
  },
  {
   "cell_type": "code",
   "execution_count": 3,
   "id": "e8bbeeed-1d77-4b83-8198-715348f0fb7f",
   "metadata": {},
   "outputs": [
    {
     "name": "stdout",
     "output_type": "stream",
     "text": [
      "Nodes: 4030\n",
      "Edges: 4078\n",
      "Degree: (Min: 1, Max: 9, Avg: 2.023821339950372)\n",
      "Connected components: 1155\n",
      "Avg path length: 3.3406947890818857\n",
      "Diameter: 27\n",
      "Radius: 13.5\n",
      "Average clustering coeff: 0.29979262672811063\n",
      "Modularity: 0.9955115981374059\n"
     ]
    }
   ],
   "source": [
    "df = pandas.read_csv('pairwise_52seconds_share.csv')\n",
    "\n",
    "filtered_df = df[df['userID_1'] != df['userID_2']]\n",
    "\n",
    "network = filtered_df[['userID_1', 'userID_2']]\n",
    "\n",
    "G = nx.from_pandas_edgelist(network, 'userID_1', 'userID_2')\n",
    "nx.write_gexf(G, \"all_users.gexf\")\n",
    "\n",
    "printStats(G)"
   ]
  },
  {
   "cell_type": "markdown",
   "id": "d13836e2-f3ba-4635-a78f-04af60279eb2",
   "metadata": {},
   "source": [
    "![Image](renders/UserNet.svg)"
   ]
  },
  {
   "cell_type": "markdown",
   "id": "7c2bd65b-0b5b-4481-a98a-3bdc7b9669f8",
   "metadata": {},
   "source": [
    "## Chapter 1.1: Barabási–Albert model"
   ]
  },
  {
   "cell_type": "markdown",
   "id": "210c40cc-e67c-41a7-8ebb-ab47342f3348",
   "metadata": {},
   "source": [
    "We start the BA model by giving some important helper functions. The `reach_target_clusters` function iteratively removes edges from a graph to increase the number of connected components (clusters) until reaching a target number, ensuring that the network is broken into desired clusters for specific analytical purposes. Meanwhile, `add_edges_keeping_clusters` adds edges within clusters without increasing the total number of clusters, effectively increasing connectivity without altering the core structure. This function is particularly valuable for network generation models where cluster structure needs to remain consistent."
   ]
  },
  {
   "cell_type": "code",
   "execution_count": 4,
   "id": "c642ea5f",
   "metadata": {},
   "outputs": [],
   "source": [
    "# Function to remove edges until reaching the target cluster count\n",
    "def reach_target_clusters(old_graph, target_clusters):\n",
    "    graph = old_graph.copy()\n",
    "    \n",
    "    current_clusters = nx.number_connected_components(graph)\n",
    "    \n",
    "    while current_clusters < target_clusters:\n",
    "        # Filter edges where neither node has a degree of 1\n",
    "        eligible_edges = [(u, v) for u, v in graph.edges if graph.degree[u] > 1 and graph.degree[v] > 1]\n",
    "        \n",
    "        # Check if there are eligible edges left to remove\n",
    "        if not eligible_edges:\n",
    "            print(\"No more eligible edges to remove.\")\n",
    "            break\n",
    "        \n",
    "        # Randomly select an eligible edge to remove\n",
    "        edge_to_remove = random.choice(eligible_edges)\n",
    "        graph.remove_edge(*edge_to_remove)\n",
    "        \n",
    "        # Recalculate the number of clusters\n",
    "        current_clusters = nx.number_connected_components(graph)\n",
    "                \n",
    "    return graph\n",
    "\n",
    "# Function to keep adding edges, but without tampering with the amount of clusters\n",
    "def add_edges_keeping_clusters(old_graph, target_edges):\n",
    "    graph = old_graph.copy()\n",
    "    \n",
    "    current_edge_count = graph.number_of_edges()\n",
    "    current_clusters = nx.number_connected_components(graph)\n",
    "    \n",
    "    # Get a list of clusters (connected components)\n",
    "    clusters = list(nx.connected_components(graph))\n",
    "\n",
    "    while current_edge_count < target_edges:\n",
    "        # Pick a random cluster\n",
    "        cluster = random.choice(clusters)\n",
    "        \n",
    "        # Select two random nodes from this cluster\n",
    "        if len(cluster) > 2:  # Ensure cluster has at least 3 nodes in order to be able to form a new edge\n",
    "            node1, node2 = random.sample(list(cluster), 2)\n",
    "            \n",
    "            # If there's no edge between them, try to add one\n",
    "            if not graph.has_edge(node1, node2):\n",
    "                graph.add_edge(node1, node2)\n",
    "                \n",
    "                # Check if the cluster count remains the same\n",
    "                new_clusters = nx.number_connected_components(graph)\n",
    "                if new_clusters == current_clusters:\n",
    "                    # If no new cluster was formed, keep the edge\n",
    "                    current_edge_count += 1\n",
    "                else:\n",
    "                    # If a new cluster is formed, remove the edge\n",
    "                    graph.remove_edge(node1, node2)\n",
    "                    \n",
    "    return graph"
   ]
  },
  {
   "cell_type": "markdown",
   "id": "6aec5ebb-bf56-415a-9b98-d0bc5ff713f1",
   "metadata": {},
   "source": [
    "The section below creates a single instance of a Barabási–Albert (BA) graph, a model that generates networks with a scale-free degree distribution. The BA graph’s parameters, including the number of nodes and average degree, are based on the White Helmets dataset, allowing the generated model to reflect similar connectivity characteristics.\n",
    "\n",
    "After generating the BA graph, `reach_target_clusters` is applied to introduce additional clusters, aligning the model’s clustering structure with that of the White Helmets network. Following this, `add_edges_keeping_clusters` adds edges while preserving the existing cluster count, maintaining a similar edge density to the real network. Finally, a statistical summary of the modified BA model provides a structural comparison with the White Helmets network, offering insights into the model’s accuracy in replicating key network features."
   ]
  },
  {
   "cell_type": "code",
   "execution_count": 5,
   "id": "dd4032cd-2764-420b-b8b4-f631acdcbdd0",
   "metadata": {},
   "outputs": [
    {
     "name": "stdout",
     "output_type": "stream",
     "text": [
      "Creating graph...\n",
      "Creating more clusters...\n",
      "Adding more edges...\n",
      "Nodes: 4030\n",
      "Edges: 4078\n",
      "Degree: (Min: 1, Max: 90, Avg: 2.023821339950372)\n",
      "Connected components: 1155\n",
      "Avg path length: 1.5377171215880894\n",
      "Diameter: 5\n",
      "Radius: 2.5\n",
      "Average clustering coeff: 0.4684838253096862\n",
      "Modularity: 0.9971143861930846\n"
     ]
    }
   ],
   "source": [
    "# Original graph parameters\n",
    "n_nodes_og = 4030\n",
    "average_degree_og = 2.023821339950372\n",
    "\n",
    "# Calculate m for the BA model (closest integer to half of the average degree)\n",
    "m = math.floor(average_degree_og / 2)\n",
    "\n",
    "# Generate a Barabási–Albert graph\n",
    "print(\"Creating graph...\")\n",
    "G_ba_1 = nx.barabasi_albert_graph(n_nodes_og, m)\n",
    "\n",
    "print(\"Creating more clusters...\")\n",
    "G_ba_2 = reach_target_clusters(G_ba_1, 1155)\n",
    "\n",
    "print(\"Adding more edges...\")\n",
    "G_ba_3 = add_edges_keeping_clusters(G_ba_2, 4078)\n",
    "\n",
    "printStats(G_ba_3)"
   ]
  },
  {
   "cell_type": "markdown",
   "id": "1192b4e2-0b81-488b-bd6e-85582077c945",
   "metadata": {},
   "source": [
    "The section below iteratively generates and refines multiple Barabási–Albert (BA) graphs to best fit the White Helmets network by matching cluster count and edge density. Each BA graph's degree distribution is evaluated using the Chi-squared test to measure similarity with the real network, minimizing the Chi-squared statistic to select the best-fit model. Degree distributions are adjusted for comparability, and the model with the closest match is saved. A final visualization compares the degree distribution of the best BA model with the real network, providing an empirical assessment of structural similarity. This method offers a data-driven approach to model alignment with the White Helmets network.\n",
    "> **_NOTE:_**  The code below takes a long time to run, so I suggest not re-running it!\n"
   ]
  },
  {
   "cell_type": "code",
   "execution_count": 6,
   "id": "910077bf-86dc-4950-9c28-24b44151b74e",
   "metadata": {},
   "outputs": [
    {
     "name": "stdout",
     "output_type": "stream",
     "text": [
      "Iteration 1 of 100\n",
      "Chi-squared Statistic: 94822.37335006027\n",
      "New best model found...! Computing statistics...\n",
      "Nodes: 4030\n",
      "Edges: 4078\n",
      "Degree: (Min: 1, Max: 75, Avg: 2.023821339950372)\n",
      "Connected components: 1155\n",
      "Avg path length: 1.513151364764268\n",
      "Diameter: 4\n",
      "Radius: 2.0\n",
      "Average clustering coeff: 0.46067946138357957\n",
      "Modularity: 0.9972518479160664\n",
      "----------------------------------------------------------------------------------------------------\n",
      "Iteration 2 of 100\n",
      "Chi-squared Statistic: 59110.06544448475\n",
      "New best model found...! Computing statistics...\n",
      "Nodes: 4030\n",
      "Edges: 4078\n",
      "Degree: (Min: 1, Max: 119, Avg: 2.023821339950372)\n",
      "Connected components: 1155\n",
      "Avg path length: 1.4950372208436724\n",
      "Diameter: 4\n",
      "Radius: 2.0\n",
      "Average clustering coeff: 0.47433717586617113\n",
      "Modularity: 0.9964945456679257\n",
      "----------------------------------------------------------------------------------------------------\n",
      "Iteration 3 of 100\n",
      "Chi-squared Statistic: 62188.72106584286\n",
      "----------------------------------------------------------------------------------------------------\n",
      "Iteration 4 of 100\n",
      "Chi-squared Statistic: 73271.83658777141\n",
      "----------------------------------------------------------------------------------------------------\n",
      "Iteration 5 of 100\n",
      "Chi-squared Statistic: 92975.19420641525\n",
      "----------------------------------------------------------------------------------------------------\n",
      "Iteration 6 of 100\n",
      "Chi-squared Statistic: 72656.13086577787\n",
      "----------------------------------------------------------------------------------------------------\n",
      "Iteration 7 of 100\n",
      "Chi-squared Statistic: 91127.99154252686\n",
      "----------------------------------------------------------------------------------------------------\n",
      "Iteration 8 of 100\n",
      "Chi-squared Statistic: 36943.805418034266\n",
      "New best model found...! Computing statistics...\n",
      "Nodes: 4030\n",
      "Edges: 4078\n",
      "Degree: (Min: 1, Max: 78, Avg: 2.023821339950372)\n",
      "Connected components: 1155\n",
      "Avg path length: 1.5416873449131514\n",
      "Diameter: 4\n",
      "Radius: 2.0\n",
      "Average clustering coeff: 0.45504929707350733\n",
      "Modularity: 0.9967574427164301\n",
      "----------------------------------------------------------------------------------------------------\n",
      "Iteration 9 of 100\n",
      "Chi-squared Statistic: 67114.5646720957\n",
      "----------------------------------------------------------------------------------------------------\n",
      "Iteration 10 of 100\n",
      "Chi-squared Statistic: 73887.57552768945\n",
      "----------------------------------------------------------------------------------------------------\n",
      "Iteration 11 of 100\n",
      "Chi-squared Statistic: 48026.93826525625\n",
      "----------------------------------------------------------------------------------------------------\n",
      "Iteration 12 of 100\n",
      "Chi-squared Statistic: 77581.95462850349\n",
      "----------------------------------------------------------------------------------------------------\n",
      "Iteration 13 of 100\n",
      "Chi-squared Statistic: 65883.08540510638\n",
      "----------------------------------------------------------------------------------------------------\n",
      "Iteration 14 of 100\n",
      "Chi-squared Statistic: 52952.77420743771\n",
      "----------------------------------------------------------------------------------------------------\n",
      "Iteration 15 of 100\n",
      "Chi-squared Statistic: 50489.86760221521\n",
      "----------------------------------------------------------------------------------------------------\n",
      "Iteration 16 of 100\n",
      "Chi-squared Statistic: 48026.94250326499\n",
      "----------------------------------------------------------------------------------------------------\n",
      "Iteration 17 of 100\n",
      "Chi-squared Statistic: 64651.658797429445\n",
      "----------------------------------------------------------------------------------------------------\n",
      "Iteration 18 of 100\n",
      "Chi-squared Statistic: 78197.6656026798\n",
      "----------------------------------------------------------------------------------------------------\n",
      "Iteration 19 of 100\n",
      "Chi-squared Statistic: 30170.77918361781\n",
      "New best model found...! Computing statistics...\n",
      "Nodes: 4030\n",
      "Edges: 4078\n",
      "Degree: (Min: 1, Max: 89, Avg: 2.023821339950372)\n",
      "Connected components: 1155\n",
      "Avg path length: 1.5523573200992555\n",
      "Diameter: 5\n",
      "Radius: 2.5\n",
      "Average clustering coeff: 0.4613045584075554\n",
      "Modularity: 0.9967516700456484\n",
      "----------------------------------------------------------------------------------------------------\n",
      "Iteration 20 of 100\n",
      "Chi-squared Statistic: 103442.57422657232\n",
      "----------------------------------------------------------------------------------------------------\n",
      "Iteration 21 of 100\n",
      "Chi-squared Statistic: 48642.66267580612\n",
      "----------------------------------------------------------------------------------------------------\n",
      "Iteration 22 of 100\n",
      "Chi-squared Statistic: 36328.081196217856\n",
      "----------------------------------------------------------------------------------------------------\n",
      "Iteration 23 of 100\n",
      "Chi-squared Statistic: 41253.91225634891\n",
      "----------------------------------------------------------------------------------------------------\n",
      "Iteration 24 of 100\n",
      "Chi-squared Statistic: 56031.418370979554\n",
      "----------------------------------------------------------------------------------------------------\n",
      "Iteration 25 of 100\n",
      "Chi-squared Statistic: 61572.99011755318\n",
      "----------------------------------------------------------------------------------------------------\n",
      "Iteration 26 of 100\n",
      "Chi-squared Statistic: 68961.74253498607\n",
      "----------------------------------------------------------------------------------------------------\n",
      "Iteration 27 of 100\n",
      "Chi-squared Statistic: 84970.70947328149\n",
      "----------------------------------------------------------------------------------------------------\n",
      "Iteration 28 of 100\n",
      "Chi-squared Statistic: 56031.41954964849\n",
      "----------------------------------------------------------------------------------------------------\n",
      "Iteration 29 of 100\n",
      "Chi-squared Statistic: 49874.12672184933\n",
      "----------------------------------------------------------------------------------------------------\n",
      "Iteration 30 of 100\n",
      "Chi-squared Statistic: 108368.41974454383\n",
      "----------------------------------------------------------------------------------------------------\n",
      "Iteration 31 of 100\n",
      "Chi-squared Statistic: 57262.88896247942\n",
      "----------------------------------------------------------------------------------------------------\n",
      "Iteration 32 of 100\n",
      "Chi-squared Statistic: 81276.32706467125\n",
      "----------------------------------------------------------------------------------------------------\n",
      "Iteration 33 of 100\n",
      "Chi-squared Statistic: 56647.140813599224\n",
      "----------------------------------------------------------------------------------------------------\n",
      "Iteration 34 of 100\n",
      "Chi-squared Statistic: 113294.26005316325\n",
      "----------------------------------------------------------------------------------------------------\n",
      "Iteration 35 of 100\n",
      "Chi-squared Statistic: 76966.22344384014\n",
      "----------------------------------------------------------------------------------------------------\n",
      "Iteration 36 of 100\n",
      "Chi-squared Statistic: 49258.39738305638\n",
      "----------------------------------------------------------------------------------------------------\n",
      "Iteration 37 of 100\n",
      "Chi-squared Statistic: 37559.5425127763\n",
      "----------------------------------------------------------------------------------------------------\n",
      "Iteration 38 of 100\n",
      "Chi-squared Statistic: 40022.45857120275\n",
      "----------------------------------------------------------------------------------------------------\n",
      "Iteration 39 of 100\n",
      "Chi-squared Statistic: 89896.5495046722\n",
      "----------------------------------------------------------------------------------------------------\n",
      "Iteration 40 of 100\n",
      "Chi-squared Statistic: 89280.80079113177\n",
      "----------------------------------------------------------------------------------------------------\n",
      "Iteration 41 of 100\n",
      "Chi-squared Statistic: 85586.44885544003\n",
      "----------------------------------------------------------------------------------------------------\n",
      "Iteration 42 of 100\n",
      "Chi-squared Statistic: 54184.22641687789\n",
      "----------------------------------------------------------------------------------------------------\n",
      "Iteration 43 of 100\n",
      "Chi-squared Statistic: 37559.54966070971\n",
      "----------------------------------------------------------------------------------------------------\n",
      "Iteration 44 of 100\n",
      "Chi-squared Statistic: 57878.612255875385\n",
      "----------------------------------------------------------------------------------------------------\n",
      "Iteration 45 of 100\n"
     ]
    },
    {
     "name": "stdout",
     "output_type": "stream",
     "text": [
      "Chi-squared Statistic: 59725.796633456\n",
      "----------------------------------------------------------------------------------------------------\n",
      "Iteration 46 of 100\n",
      "Chi-squared Statistic: 91127.99901995873\n",
      "----------------------------------------------------------------------------------------------------\n",
      "Iteration 47 of 100\n",
      "Chi-squared Statistic: 67114.55413260795\n",
      "----------------------------------------------------------------------------------------------------\n",
      "Iteration 48 of 100\n",
      "Chi-squared Statistic: 92359.47450783197\n",
      "----------------------------------------------------------------------------------------------------\n",
      "Iteration 49 of 100\n",
      "Chi-squared Statistic: 86202.1567965464\n",
      "----------------------------------------------------------------------------------------------------\n",
      "Iteration 50 of 100\n",
      "Chi-squared Statistic: 76966.2205987265\n",
      "----------------------------------------------------------------------------------------------------\n",
      "Iteration 51 of 100\n",
      "Chi-squared Statistic: 50489.84644499238\n",
      "----------------------------------------------------------------------------------------------------\n",
      "Iteration 52 of 100\n",
      "Chi-squared Statistic: 44948.30578030212\n",
      "----------------------------------------------------------------------------------------------------\n",
      "Iteration 53 of 100\n",
      "Chi-squared Statistic: 53568.496203220646\n",
      "----------------------------------------------------------------------------------------------------\n",
      "Iteration 54 of 100\n",
      "Chi-squared Statistic: 72040.3841726839\n",
      "----------------------------------------------------------------------------------------------------\n",
      "Iteration 55 of 100\n",
      "Chi-squared Statistic: 66498.82781059056\n",
      "----------------------------------------------------------------------------------------------------\n",
      "Iteration 56 of 100\n",
      "Chi-squared Statistic: 89280.81858363049\n",
      "----------------------------------------------------------------------------------------------------\n",
      "Iteration 57 of 100\n",
      "Chi-squared Statistic: 81892.06086010148\n",
      "----------------------------------------------------------------------------------------------------\n",
      "Iteration 58 of 100\n",
      "Chi-squared Statistic: 44948.29060210651\n",
      "----------------------------------------------------------------------------------------------------\n",
      "Iteration 59 of 100\n",
      "Chi-squared Statistic: 44332.55139362516\n",
      "----------------------------------------------------------------------------------------------------\n",
      "Iteration 60 of 100\n",
      "Chi-squared Statistic: 66498.8495690604\n",
      "----------------------------------------------------------------------------------------------------\n",
      "Iteration 61 of 100\n",
      "Chi-squared Statistic: 59110.06989273809\n",
      "----------------------------------------------------------------------------------------------------\n",
      "Iteration 62 of 100\n",
      "Chi-squared Statistic: 57262.877218175476\n",
      "----------------------------------------------------------------------------------------------------\n",
      "Iteration 63 of 100\n",
      "Chi-squared Statistic: 22782.03236455065\n",
      "New best model found...! Computing statistics...\n",
      "Nodes: 4030\n",
      "Edges: 4078\n",
      "Degree: (Min: 1, Max: 69, Avg: 2.023821339950372)\n",
      "Connected components: 1155\n",
      "Avg path length: 1.5004962779156328\n",
      "Diameter: 4\n",
      "Radius: 2.0\n",
      "Average clustering coeff: 0.47644534371889974\n",
      "Modularity: 0.9968320063806919\n",
      "----------------------------------------------------------------------------------------------------\n",
      "Iteration 64 of 100\n",
      "Chi-squared Statistic: 60957.258927022725\n",
      "----------------------------------------------------------------------------------------------------\n",
      "Iteration 65 of 100\n",
      "Chi-squared Statistic: 52337.03692739841\n",
      "----------------------------------------------------------------------------------------------------\n",
      "Iteration 66 of 100\n",
      "Chi-squared Statistic: 47411.20708823144\n",
      "----------------------------------------------------------------------------------------------------\n",
      "Iteration 67 of 100\n",
      "Chi-squared Statistic: 52952.76429692918\n",
      "----------------------------------------------------------------------------------------------------\n",
      "Iteration 68 of 100\n",
      "Chi-squared Statistic: 33249.43540595996\n",
      "----------------------------------------------------------------------------------------------------\n",
      "Iteration 69 of 100\n",
      "Chi-squared Statistic: 45564.02304038962\n",
      "----------------------------------------------------------------------------------------------------\n",
      "Iteration 70 of 100\n",
      "Chi-squared Statistic: 71424.66530770916\n",
      "----------------------------------------------------------------------------------------------------\n",
      "Iteration 71 of 100\n",
      "Chi-squared Statistic: 56031.41395928086\n",
      "----------------------------------------------------------------------------------------------------\n",
      "Iteration 72 of 100\n",
      "Chi-squared Statistic: 72656.12324671324\n",
      "----------------------------------------------------------------------------------------------------\n",
      "Iteration 73 of 100\n",
      "Chi-squared Statistic: 27707.85452282698\n",
      "----------------------------------------------------------------------------------------------------\n",
      "Iteration 74 of 100\n",
      "Chi-squared Statistic: 40022.455918542204\n",
      "----------------------------------------------------------------------------------------------------\n",
      "Iteration 75 of 100\n",
      "Chi-squared Statistic: 57878.619221141955\n",
      "----------------------------------------------------------------------------------------------------\n",
      "Iteration 76 of 100\n",
      "Chi-squared Statistic: 48642.6675194672\n",
      "----------------------------------------------------------------------------------------------------\n",
      "Iteration 77 of 100\n",
      "Chi-squared Statistic: 89896.53898498778\n",
      "----------------------------------------------------------------------------------------------------\n",
      "Iteration 78 of 100\n",
      "Chi-squared Statistic: 56647.15550476861\n",
      "----------------------------------------------------------------------------------------------------\n",
      "Iteration 79 of 100\n",
      "Chi-squared Statistic: 34480.88922865276\n",
      "----------------------------------------------------------------------------------------------------\n",
      "Iteration 80 of 100\n",
      "Chi-squared Statistic: 49874.12795397617\n",
      "----------------------------------------------------------------------------------------------------\n",
      "Iteration 81 of 100\n",
      "Chi-squared Statistic: 48642.680813891515\n",
      "----------------------------------------------------------------------------------------------------\n",
      "Iteration 82 of 100\n",
      "Chi-squared Statistic: 60957.25727086757\n",
      "----------------------------------------------------------------------------------------------------\n",
      "Iteration 83 of 100\n",
      "Chi-squared Statistic: 67730.27753238956\n",
      "----------------------------------------------------------------------------------------------------\n",
      "Iteration 84 of 100\n",
      "Chi-squared Statistic: 43716.82958783494\n",
      "----------------------------------------------------------------------------------------------------\n",
      "Iteration 85 of 100\n",
      "Chi-squared Statistic: 116988.63687892382\n",
      "----------------------------------------------------------------------------------------------------\n",
      "Iteration 86 of 100\n",
      "Chi-squared Statistic: 45564.01645747984\n",
      "----------------------------------------------------------------------------------------------------\n",
      "Iteration 87 of 100\n",
      "Chi-squared Statistic: 52337.044398765036\n",
      "----------------------------------------------------------------------------------------------------\n",
      "Iteration 88 of 100\n",
      "Chi-squared Statistic: 91743.7414504212\n",
      "----------------------------------------------------------------------------------------------------\n",
      "Iteration 89 of 100\n",
      "Chi-squared Statistic: 65267.35645519251\n",
      "----------------------------------------------------------------------------------------------------\n",
      "Iteration 90 of 100\n",
      "Chi-squared Statistic: 48642.663063974906\n",
      "----------------------------------------------------------------------------------------------------\n",
      "Iteration 91 of 100\n",
      "Chi-squared Statistic: 52337.046407318594\n",
      "----------------------------------------------------------------------------------------------------\n",
      "Iteration 92 of 100\n",
      "Chi-squared Statistic: 49874.12955011186\n",
      "----------------------------------------------------------------------------------------------------\n",
      "Iteration 93 of 100\n",
      "Chi-squared Statistic: 56647.15270611903\n",
      "----------------------------------------------------------------------------------------------------\n",
      "Iteration 94 of 100\n"
     ]
    },
    {
     "name": "stdout",
     "output_type": "stream",
     "text": [
      "Chi-squared Statistic: 96669.55698717585\n",
      "----------------------------------------------------------------------------------------------------\n",
      "Iteration 95 of 100\n",
      "Chi-squared Statistic: 73271.84332567519\n",
      "----------------------------------------------------------------------------------------------------\n",
      "Iteration 96 of 100\n",
      "Chi-squared Statistic: 47411.20837882493\n",
      "----------------------------------------------------------------------------------------------------\n",
      "Iteration 97 of 100\n",
      "Chi-squared Statistic: 67730.29859622687\n",
      "----------------------------------------------------------------------------------------------------\n",
      "Iteration 98 of 100\n",
      "Chi-squared Statistic: 79429.14563951232\n",
      "----------------------------------------------------------------------------------------------------\n",
      "Iteration 99 of 100\n",
      "Chi-squared Statistic: 57878.614473870766\n",
      "----------------------------------------------------------------------------------------------------\n",
      "Iteration 100 of 100\n",
      "Chi-squared Statistic: 60341.52153521922\n",
      "----------------------------------------------------------------------------------------------------\n"
     ]
    },
    {
     "data": {
      "image/png": "[encoded data removed]",
      "text/plain": [
       "<Figure size 1000x600 with 1 Axes>"
      ]
     },
     "metadata": {},
     "output_type": "display_data"
    }
   ],
   "source": [
    "# Original graph parameters\n",
    "n_nodes_og = 4030\n",
    "average_degree_og = 2.023821339950372\n",
    "m = 1#math.ceil(average_degree_og / 2)\n",
    "\n",
    "# Placeholder for the best model and chi-squared value\n",
    "best_chi2 = float('inf')\n",
    "best_model = None\n",
    "\n",
    "# Number of iterations\n",
    "num_iterations = 100 \n",
    "\n",
    "# Start the loop for X iterations\n",
    "for iteration in range(num_iterations):\n",
    "    print(f\"Iteration {iteration+1} of {num_iterations}\")\n",
    "\n",
    "    # Generate initial Barabási–Albert graph\n",
    "    G_ba_1 = nx.barabasi_albert_graph(n_nodes_og, m)\n",
    "\n",
    "    # Modify graph to reach more clusters\n",
    "    G_ba_2 = reach_target_clusters(G_ba_1, 1155)\n",
    "\n",
    "    # Add edges while maintaining the number of clusters\n",
    "    G_ba_3 = add_edges_keeping_clusters(G_ba_2, 4078)\n",
    "\n",
    "    # Calculate degree sequences and frequencies for both graphs\n",
    "    degree_sequence_ba = [d for _, d in G_ba_3.degree()]\n",
    "    degree_count_ba = collections.Counter(degree_sequence_ba)\n",
    "    deg_ba, cnt_ba = zip(*degree_count_ba.items())\n",
    "\n",
    "    degree_sequence_g = [d for _, d in G.degree()]\n",
    "    degree_count_g = collections.Counter(degree_sequence_g)\n",
    "    deg_g, cnt_g = zip(*degree_count_g.items())\n",
    "\n",
    "    probabilities_ba = [freq / sum(cnt_ba) for freq in cnt_ba]\n",
    "    probabilities_g = [freq / sum(cnt_g) for freq in cnt_g]\n",
    "\n",
    "    # Create a unified list of all degrees\n",
    "    all_degrees = set(deg_ba).union(set(deg_g))\n",
    "\n",
    "    # Adjust probabilities to ensure both lists cover all degrees\n",
    "    probabilities_ba_extended = []\n",
    "    probabilities_g_extended = []\n",
    "\n",
    "    for degree in all_degrees:\n",
    "        if degree in deg_ba:\n",
    "            probabilities_ba_extended.append(probabilities_ba[deg_ba.index(degree)])\n",
    "        else:\n",
    "            probabilities_ba_extended.append(0)\n",
    "\n",
    "        if degree in deg_g:\n",
    "            probabilities_g_extended.append(probabilities_g[deg_g.index(degree)])\n",
    "        else:\n",
    "            probabilities_g_extended.append(0)\n",
    "\n",
    "    epsilon = 1e-10  # Small constant to avoid division by zero\n",
    "\n",
    "    # Apply smoothing to both probability distributions\n",
    "    smoothed_probabilities_ba = [prob + epsilon for prob in probabilities_ba_extended]\n",
    "    smoothed_probabilities_g = [prob + epsilon for prob in probabilities_g_extended]\n",
    "\n",
    "    # Perform Chi-squared test\n",
    "    chi2_stat, p_val = stats.chisquare(smoothed_probabilities_ba, smoothed_probabilities_g)\n",
    "\n",
    "    print(f\"Chi-squared Statistic: {chi2_stat}\")\n",
    "\n",
    "    # If this model has the best chi-squared value, save it\n",
    "    if chi2_stat < best_chi2:\n",
    "        best_chi2 = chi2_stat\n",
    "        best_model = G_ba_3\n",
    "        \n",
    "        print(f\"New best model found...! Computing statistics...\")\n",
    "        printStats(best_model)\n",
    "        \n",
    "    print(\"-\"*100)\n",
    "\n",
    "# After the loop, plot the best model\n",
    "if best_model:\n",
    "    degree_sequence_best = [d for _, d in best_model.degree()]\n",
    "    degree_count_best = collections.Counter(degree_sequence_best)\n",
    "    deg_best, cnt_best = zip(*degree_count_best.items())\n",
    "\n",
    "    plt.figure(figsize=(10, 6))\n",
    "    plt.bar(deg_best, cnt_best, width=0.35, color='g', label=\"Best Model\", align='center')\n",
    "    plt.title(\"Degree Distribution of Best Model\")\n",
    "    plt.xlabel(\"Degree\")\n",
    "    plt.ylabel(\"Frequency\")\n",
    "    plt.legend()\n",
    "    plt.show()"
   ]
  },
  {
   "cell_type": "code",
   "execution_count": 7,
   "id": "38c731c4",
   "metadata": {},
   "outputs": [],
   "source": [
    "nx.write_gexf(best_model, f\"ba_model_best_{num_iterations}it.gexf\")"
   ]
  },
  {
   "cell_type": "code",
   "execution_count": 8,
   "id": "76025380-4107-4a37-ad24-1237747f8f4a",
   "metadata": {},
   "outputs": [
    {
     "name": "stdout",
     "output_type": "stream",
     "text": [
      "Original user-user network\n",
      "Nodes: 4030\n",
      "Edges: 4078\n",
      "Degree: (Min: 1, Max: 9, Avg: 2.023821339950372)\n",
      "Connected components: 1155\n",
      "Avg path length: 3.3406947890818857\n",
      "Diameter: 27\n",
      "Radius: 13.5\n",
      "Average clustering coeff: 0.29979262672811063\n",
      "Modularity: 0.9955115981374059\n",
      "\n",
      "Best Barabási–Albert network\n",
      "Nodes: 4030\n",
      "Edges: 4078\n",
      "Degree: (Min: 1, Max: 69, Avg: 2.023821339950372)\n",
      "Connected components: 1155\n",
      "Avg path length: 1.5004962779156328\n",
      "Diameter: 4\n",
      "Radius: 2.0\n",
      "Average clustering coeff: 0.47644534371889974\n",
      "Modularity: 0.9968320063806919\n"
     ]
    }
   ],
   "source": [
    "print(\"Original user-user network\")\n",
    "printStats(G)\n",
    "print(\"\\nBest Barabási–Albert network\")\n",
    "printStats(best_model)"
   ]
  },
  {
   "cell_type": "markdown",
   "id": "2dcd4beb-5732-4096-b314-d37eb25defd6",
   "metadata": {},
   "source": [
    "### Conclusion and Discussion of our modified BA model"
   ]
  },
  {
   "cell_type": "markdown",
   "id": "2710881f-7342-4ff9-9c58-583144d7c3b4",
   "metadata": {},
   "source": [
    "This analysis assesses how closely a Barabási–Albert (BA) model can replicate the White Helmets network by comparing essential metrics: average path length, diameter, clustering coefficient, modularity, and degree distribution. Both networks share identical node and edge counts (4030 nodes, 4078 edges), which allows for direct structural comparison. While the BA model captures some aspects, such as high modularity and clustering, significant differences arise. The BA model produces extreme hubs (max degree 93 versus 9 in the White Helmets network), leading to a broader degree distribution and an average degree of 2.02. This structure results in shorter path lengths (1.46 vs. 3.34) and a smaller diameter (3 vs. 27), showing that the BA network’s connectivity relies on highly connected hubs, unlike the White Helmets network’s more uniform connections.\n",
    "\n",
    "The BA model’s clustering coefficient (0.47) is also higher than the White Helmets network’s (0.30), reflecting tighter local clusters in the generated network due to intentional edge additions within clusters. While both networks have high modularity (close to 1), indicating strong community structure, the generated network exhibits slightly higher modularity, implying more distinct community boundaries than those in the actual data.\n",
    "\n",
    "Overall, while the BA model with cluster adjustments captures certain properties of the White Helmets network, key differences in degree distribution, path length, and clustering indicate that the White Helmets network does not fully align with the scale-free, hub-dominated structure of a BA model. These findings suggest that alternative models, such as the Erdős–Rényi or Small-World model, may offer closer alignment by capturing the longer path lengths and evenly distributed connections typical of the White Helmets network. The analysis highlights the limitations of the BA model in approximating real-world social networks and suggests future exploration of hybrid or alternative models to capture the complex structural nuances of social networks accurately.\n",
    "\n",
    "Below is the best BA model after 100 graphs have been computed.\n",
    "\n",
    "\n",
    "![Best BA Model after 100 Iterations](renders/best_ba.svg)\n",
    "\n",
    "\n",
    "\n"
   ]
  },
  {
   "cell_type": "markdown",
   "id": "3b6e66e2-a90f-428a-a3fe-3a466ae1b61a",
   "metadata": {},
   "source": [
    "## Chapter 1.2: Watts-Strogatz Model"
   ]
  },
  {
   "cell_type": "code",
   "execution_count": 9,
   "id": "c6adc35a-3a97-407b-8024-c8195d63e766",
   "metadata": {},
   "outputs": [],
   "source": [
    "# WS graph\n",
    "\n",
    "n_nodes_ws = n_nodes_og\n",
    "average_degree_ws = 1000\n",
    "p = 1\n",
    "\n",
    "G_ws = nx.watts_strogatz_graph(n_nodes_ws, average_degree_ws, p)\n",
    "\n",
    "def safe_remove_edge(G, edge):\n",
    "    u, v = edge\n",
    "    # Check degrees before removal\n",
    "    degree_u = G.degree(u)\n",
    "    degree_v = G.degree(v)\n",
    "    \n",
    "    # If removing the edge doesn't isolate any node, proceed\n",
    "    if degree_u > 1 and degree_v > 1:\n",
    "        G.remove_edge(u, v)\n",
    "        return True  # Edge was removed\n",
    "    else:\n",
    "        return False  # Edge was not removed to prevent isolation\n",
    "\n",
    "\n",
    "#Remove edges\n",
    "connected_components = nx.number_connected_components(G_ws)\n",
    "while (connected_components < 1155):\n",
    "    num_edges = G_ws.number_of_edges()\n",
    "    edges = list(G_ws.edges())\n",
    "    num_edges_to_remove = num_edges // 5\n",
    "    edges_to_remove = random.sample(edges, num_edges_to_remove)\n",
    "    for edge in edges_to_remove:\n",
    "        removed = safe_remove_edge(G_ws, edge)\n",
    "    connected_components = nx.number_connected_components(G_ws)\n",
    "\n",
    "\n",
    "nx.write_gexf(G_ws, \"network_ws.gexf\")\n",
    "\n",
    "# Check for isolated nodes\n",
    "isolated_nodes = list(nx.isolates(G_ws))\n",
    "if len(isolated_nodes) > 0:\n",
    "    print(f\"Isolated nodes: {isolated_nodes}\")\n"
   ]
  },
  {
   "cell_type": "code",
   "execution_count": 10,
   "id": "93959743-59f1-4b23-a8a5-6094aa27e344",
   "metadata": {},
   "outputs": [
    {
     "name": "stdout",
     "output_type": "stream",
     "text": [
      "-------- WS Network --------\n",
      "Nodes: 4030\n",
      "Edges: 2805\n",
      "Degree: (Min: 1, Max: 7, Avg: 1.3920595533498759)\n",
      "Connected components: 1225\n",
      "Avg path length: 2.338213399503722\n",
      "Diameter: 11\n",
      "Radius: 5.5\n",
      "Average clustering coeff: 0.0\n",
      "Modularity: 0.9983626132351798\n",
      "\n",
      "-------- Original Network --------\n",
      "Nodes: 4030\n",
      "Edges: 4078\n",
      "Degree: (Min: 1, Max: 9, Avg: 2.023821339950372)\n",
      "Connected components: 1155\n",
      "Avg path length: 3.3406947890818857\n",
      "Diameter: 27\n",
      "Radius: 13.5\n",
      "Average clustering coeff: 0.29979262672811063\n",
      "Modularity: 0.9955115981374059\n"
     ]
    }
   ],
   "source": [
    "print('-------- WS Network --------')\n",
    "printStats(G_ws)\n",
    "\n",
    "print('\\n-------- Original Network --------')\n",
    "printStats(G)\n"
   ]
  },
  {
   "cell_type": "markdown",
   "id": "ffec3120-2ee5-4a08-b22d-6c250182709a",
   "metadata": {},
   "source": [
    "In assessing the Watts-Strogatz (WS) model's suitability for replicating the White Helmets network, we aimed to match core metrics such as average degree, path length, diameter, clustering coefficient, and modularity, using identical node and edge counts. Unlike the Barabási–Albert model, the WS model encountered significant difficulties in capturing the original network’s structure. Configuring the WS model to match the White Helmets network’s average degree (2.02) required careful tuning of the connection probability \n",
    "𝑝\n",
    "p; high values maintained network connectivity but failed to replicate clustering, while lower values led to fragmentation and isolated nodes. To mitigate these issues, we introduced a safe_remove_edge function, iteratively removing edges while avoiding isolated nodes. Despite these adjustments, the WS network retained higher clustering and distinctive connectivity patterns, resulting in a network that, although closer in average degree, still displayed clustering and path length characteristics inconsistent with the White Helmets network. Overall, the WS model’s small-world properties, marked by higher clustering and shorter path lengths, diverged from the evenly distributed connections of the White Helmets network, underscoring fundamental differences in their network topologies."
   ]
  },
  {
   "cell_type": "markdown",
   "id": "3104bb6e-67c4-4d9a-9765-5b9f8d1ecdfb",
   "metadata": {},
   "source": [
    "![Image](renders/WS.svg)"
   ]
  },
  {
   "cell_type": "markdown",
   "id": "3e191e0f-e485-4fd6-912d-85eb48b5e9b2",
   "metadata": {},
   "source": [
    "## Chapter 1.3: Analyzing the User-User Network with a Modified Configuration Model"
   ]
  },
  {
   "cell_type": "markdown",
   "id": "5d23778f-4c59-4887-b7b6-280285e03961",
   "metadata": {},
   "source": [
    "Given that with the WS model it was very difficult to get the average degree right, we decided to get the degree distributions and create from there a degree sequence that could be fed to the nx.configuration_model() function.\n",
    "\n",
    "\n",
    "First, we plot the degree distribution for the whole dataset:"
   ]
  },
  {
   "cell_type": "code",
   "execution_count": 11,
   "id": "1e6e75d6-ce42-4336-ab6f-5bf42b704b76",
   "metadata": {},
   "outputs": [
    {
     "data": {
      "image/png": "[encoded data removed]",
      "text/plain": [
       "<Figure size 1000x600 with 1 Axes>"
      ]
     },
     "metadata": {},
     "output_type": "display_data"
    }
   ],
   "source": [
    "degree_sequence = [d for _, d in G.degree()]\n",
    "\n",
    "# Count the frequency of each degree\n",
    "degree_count = collections.Counter(degree_sequence)\n",
    "deg, cnt = zip(*degree_count.items())\n",
    "\n",
    "probabilities = [freq / sum(cnt) for freq in cnt]\n",
    "\n",
    "# Plot the degree distribution\n",
    "plt.figure(figsize=(10, 6))\n",
    "plt.bar(deg, cnt, width=0.80, color='b')\n",
    "\n",
    "plt.title(\"Degree Distribution\")\n",
    "plt.xlabel(\"Degree\")\n",
    "plt.ylabel(\"Frequency\")\n",
    "plt.show()"
   ]
  },
  {
   "cell_type": "markdown",
   "id": "20f9c96d-0496-4923-9a58-1f95ea1171d9",
   "metadata": {},
   "source": [
    "Now, we fit this degree distribution to a normal distribution, and sample from it to create our own degree distribution. In the graph we plot the original distribution, the normal distribution derived from it and the newly generated degree samples.\n",
    "\n",
    "For the network generation, we made sure that the sum of the degrees in the sequence is even."
   ]
  },
  {
   "cell_type": "code",
   "execution_count": 12,
   "id": "c2271959-c26c-4e11-8d0c-5ba24cb99c01",
   "metadata": {},
   "outputs": [
    {
     "data": {
      "image/png": "[encoded data removed]",
      "text/plain": [
       "<Figure size 1000x600 with 1 Axes>"
      ]
     },
     "metadata": {},
     "output_type": "display_data"
    }
   ],
   "source": [
    "def make_degrees_sum_even(sequence):\n",
    "    if sum(sequence) % 2 != 0:\n",
    "        # Choose a random index\n",
    "        random_index = np.random.choice(len(sequence))\n",
    "        \n",
    "        # Decide whether to add or subtract 1 with 50% probability\n",
    "        adjustment = np.random.choice([1, -1])\n",
    "        \n",
    "        # Apply the adjustment\n",
    "        sequence[random_index] += adjustment\n",
    "    return sequence\n",
    "\n",
    "num_nodes = len(degree_sequence)\n",
    "\n",
    "# Generate a degree sequence following the original degree distribution\n",
    "sampled_degree_sequence = np.random.choice(deg, size=num_nodes, p=probabilities)\n",
    "\n",
    "sampled_degree_sequence = make_degrees_sum_even(sampled_degree_sequence)\n",
    "\n",
    "\n",
    "# Plot the degree distribution comparison\n",
    "plt.figure(figsize=(10, 6))\n",
    "plt.hist(degree_sequence, bins=range(min(degree_sequence), max(degree_sequence)+1), alpha=0.5, label='Original', color='b')\n",
    "plt.hist(sampled_degree_sequence, bins=range(min(degree_sequence), max(degree_sequence)+1), alpha=0.5, label='Sampled', color='r')\n",
    "\n",
    "params = stats.halfnorm.fit(degree_sequence)\n",
    "x = np.linspace(1, max(degree_sequence), 100)\n",
    "pdf_fitted = stats.halfnorm.pdf(x, *params) * sum(cnt)\n",
    "plt.plot(x, pdf_fitted, label='Half-normal fit', color='black')\n",
    "\n",
    "\n",
    "\n",
    "plt.title(\"Degree Distribution Comparison\")\n",
    "plt.xlabel(\"Degree\")\n",
    "plt.ylabel(\"Frequency\")\n",
    "plt.legend()\n",
    "plt.show()"
   ]
  },
  {
   "cell_type": "code",
   "execution_count": 13,
   "id": "4393d0c4-1ee7-404c-937a-25e5285fc050",
   "metadata": {},
   "outputs": [
    {
     "name": "stdout",
     "output_type": "stream",
     "text": [
      "-------- Avg. degree matching network: --------\n",
      "Nodes: 4030\n",
      "Edges: 4089\n",
      "Degree: (Min: 1, Max: 9, Avg: 2.0292803970223323)\n",
      "Connected components: 304\n",
      "Avg path length: 17.993052109181143\n",
      "Diameter: 30\n",
      "Radius: 15.0\n",
      "Average clustering coeff: -1\n",
      "Modularity: 0.8934928281060677\n",
      "\n",
      "-------- Original network: --------\n",
      "Nodes: 4030\n",
      "Edges: 4078\n",
      "Degree: (Min: 1, Max: 9, Avg: 2.023821339950372)\n",
      "Connected components: 1155\n",
      "Avg path length: 3.3406947890818857\n",
      "Diameter: 27\n",
      "Radius: 13.5\n",
      "Average clustering coeff: 0.29979262672811063\n",
      "Modularity: 0.9955115981374059\n"
     ]
    }
   ],
   "source": [
    "G_simple = nx.configuration_model(sampled_degree_sequence)\n",
    "nx.write_gexf(G_simple, \" simple_network.gexf\")\n",
    "\n",
    "print(\"-------- Avg. degree matching network: --------\")\n",
    "printStats(G_simple)\n",
    "\n",
    "print(\"\\n-------- Original network: --------\")\n",
    "printStats(G)"
   ]
  },
  {
   "cell_type": "markdown",
   "id": "9616e226-b1a7-4bb3-9544-853927137410",
   "metadata": {},
   "source": [
    "Nodes, edges and degrees are very similar in both models, as well as the size of the networks. However, the generated network has much fewer connected components than the original one. Also, the average path length is much longer than in the original network.\n",
    "\n",
    "Additionally, the average cluster coefficient appears as -1 because it cannot be calculated for the generated network, as the nx.configuration_model() function yields a MultiGraph, which contains loops and parallel edges.\n",
    "\n",
    "From the image it is clear that the main difference with the original network is the presence of a huge cluster in the middle of the graph.\n",
    "\n",
    "![Image](renders/AvgDegreeNet.svg)"
   ]
  },
  {
   "cell_type": "markdown",
   "id": "5d960bd5-8868-45f0-852e-dcbf42ec0f5f",
   "metadata": {},
   "source": [
    "## Matching Avg. Degree and Connected Components Network\n",
    "\n",
    "In the previous approach, we made a network that had the appropiate average degree, but had too few connected components (CC). In this section, we are going to obtain the size distribution of the CCs. Then we will extract the distribution of the degrees of the nodes for every CC size. Finally, we will use the CC size distribution and the degrees distribution for each size to create each of the components of the network.\n",
    "\n",
    "First, we will obtain the cluster size distribution."
   ]
  },
  {
   "cell_type": "code",
   "execution_count": 14,
   "id": "c36031e4-e192-4820-bad5-3a67e9ab89c4",
   "metadata": {},
   "outputs": [
    {
     "data": {
      "text/plain": [
       "Text(0, 0.5, 'Frequency')"
      ]
     },
     "execution_count": 14,
     "metadata": {},
     "output_type": "execute_result"
    },
    {
     "data": {
      "image/png": "[encoded data removed]",
      "text/plain": [
       "<Figure size 1000x600 with 1 Axes>"
      ]
     },
     "metadata": {},
     "output_type": "display_data"
    }
   ],
   "source": [
    "# Get the diff. network components\n",
    "components = [G.subgraph(component).copy() for component in nx.connected_components(G)]\n",
    "components_list = [list(component) for component in components]\n",
    "component_sizes = [len(component) for component in components_list]\n",
    "\n",
    "#plot histogram for component sizes\n",
    "\n",
    "plt.figure(figsize=(10, 6))\n",
    "plt.hist(component_sizes, bins=range(min(component_sizes), max(component_sizes)+1), color='b')\n",
    "plt.title(\"Component Sizes\")\n",
    "plt.xlabel(\"Size\")\n",
    "plt.ylabel(\"Frequency\")\n"
   ]
  },
  {
   "cell_type": "markdown",
   "id": "8fefb821-8098-423e-8f58-cf903d6de012",
   "metadata": {},
   "source": [
    "As shown in the image, the distribution is not gaussian, so for obtaining the CC size sequence of the generated network we are going to sample directly from this distribution.\n",
    "\n",
    "Now we will define the functions for extracting the degree distribution for each CC size."
   ]
  },
  {
   "cell_type": "code",
   "execution_count": 15,
   "id": "05e15883-d080-4a9c-8430-9d643a86bf77",
   "metadata": {},
   "outputs": [],
   "source": [
    "from scipy.stats import truncnorm\n",
    "def fit_truncated_normal(data, lower_bound, size):\n",
    "    # Estimate the parameters of the normal distribution from the data\n",
    "    mu, std = np.mean(data), np.std(data)\n",
    "    if std == 0:\n",
    "        print(size)\n",
    "\n",
    "    # Create a truncated normal distribution with these parameters\n",
    "    a, b = (lower_bound - mu) / std, np.inf\n",
    "    dist = truncnorm(a, b, loc=mu, scale=std)  # Normalize the bounds (no upper bound)\n",
    "    return dist \n",
    "\n",
    "def get_size_component_distribution(components_list, size, plot = False):\n",
    "\n",
    "    selected_indexes = [index for index, component in enumerate(components_list) if len(component) == size]\n",
    "    filtered_components = [components[index] for index in selected_indexes]\n",
    "\n",
    "    degrees = []\n",
    "    degrees = [d for component in filtered_components for _, d in component.degree()]\n",
    "    min_degree = min(degrees)\n",
    "    max_degree = max(degrees)\n",
    "\n",
    "    distribution = fit_truncated_normal(degrees, 0.5, size) # Lower bound is 0.5 because we are rounding to the nearest integer when creating the histogram\n",
    "\n",
    "    if plot:\n",
    "        x = np.linspace(min_degree - 0.5, max_degree + 0.5, 1000)\n",
    "        pdf = distribution.pdf(x)*len(degrees)\n",
    "        plt.figure(figsize=(10, 6))\n",
    "        plt.plot(x + 0.5, pdf, 'k', linewidth=2, label='Fitted Truncated Normal')\n",
    "        plt.hist(degrees, bins=range(int(min_degree), int(max_degree+2)), color='b', label='Original')\n",
    "        sampled_degree_sequence = distribution.rvs(size=len(degrees)).round().astype(int)\n",
    "        plt.hist(sampled_degree_sequence, bins=range(int(min_degree), int(max_degree+2)), color='r', alpha=0.5, label='Sampled')\n",
    "        plt.title(f\"Degree Distribution for component size {size}\")\n",
    "        plt.xlabel(\"Degree\")\n",
    "        plt.ylabel(\"Frequency\")\n",
    "        plt.legend()\n",
    "\n",
    "    return distribution"
   ]
  },
  {
   "cell_type": "markdown",
   "id": "e3005b18-aba5-4738-9494-b98c305c0203",
   "metadata": {},
   "source": [
    "This is an example of the original distribution, the normal distribution and the samples obtained for the degrees of the nodes of a CC of size 6."
   ]
  },
  {
   "cell_type": "code",
   "execution_count": 16,
   "id": "179d8fdf-8855-4692-ab9c-66f64ef5772b",
   "metadata": {},
   "outputs": [
    {
     "data": {
      "text/plain": [
       "<scipy.stats._distn_infrastructure.rv_continuous_frozen at 0x2db27136e90>"
      ]
     },
     "execution_count": 16,
     "metadata": {},
     "output_type": "execute_result"
    },
    {
     "data": {
      "image/png": "[encoded data removed]",
      "text/plain": [
       "<Figure size 1000x600 with 1 Axes>"
      ]
     },
     "metadata": {},
     "output_type": "display_data"
    }
   ],
   "source": [
    "get_size_component_distribution(components_list, 6, True)"
   ]
  },
  {
   "cell_type": "markdown",
   "id": "1a678ede-84b5-4c78-b5f5-b66c1b2e9788",
   "metadata": {},
   "source": [
    "## Generating the Network\n",
    "### CC size distribution\n",
    "First of all, we will generate the size sequence for the CCs. In the plot there is the comparison between the generated distribution and the original one."
   ]
  },
  {
   "cell_type": "code",
   "execution_count": 17,
   "id": "2960f7c9-5b33-4e48-906b-897fb02db9ee",
   "metadata": {},
   "outputs": [
    {
     "data": {
      "text/plain": [
       "<matplotlib.legend.Legend at 0x2db24a85990>"
      ]
     },
     "execution_count": 17,
     "metadata": {},
     "output_type": "execute_result"
    },
    {
     "data": {
      "image/png": "[encoded data removed]",
      "text/plain": [
       "<Figure size 1000x600 with 1 Axes>"
      ]
     },
     "metadata": {},
     "output_type": "display_data"
    }
   ],
   "source": [
    "size_count = collections.Counter(component_sizes)\n",
    "size, cnt = zip(*size_count.items())\n",
    "\n",
    "probabilities = [freq / sum(cnt) for freq in cnt]\n",
    "\n",
    "num_components = len(component_sizes)\n",
    "\n",
    "# Generate a degree sequence following the original degree distribution\n",
    "sampled_size_sequence = np.random.choice(size, size=num_components, p=probabilities)\n",
    "\n",
    "plt.figure(figsize=(10, 6))\n",
    "plt.hist(component_sizes, bins=range(min(component_sizes), max(component_sizes)+1), alpha=0.5, label='Original', color='b')\n",
    "plt.hist(sampled_size_sequence, bins=range(min(size), max(size)+1), alpha=0.5, label='Sampled', color='r')\n",
    "plt.title(\"CC Size Distribution Comparison\")\n",
    "plt.xlabel(\"Size\")\n",
    "plt.ylabel(\"Frequency\")\n",
    "plt.legend()"
   ]
  },
  {
   "cell_type": "markdown",
   "id": "542aacdd-ac3f-4cfb-bf83-1814b35e2e24",
   "metadata": {},
   "source": [
    "### Degree distribution\n",
    "Secondly, we need the degree distribution for each CC size."
   ]
  },
  {
   "cell_type": "code",
   "execution_count": 18,
   "id": "59cb7e14-1a97-4126-96a7-b89858720d24",
   "metadata": {},
   "outputs": [],
   "source": [
    "# Getting the degree distributions:\n",
    "\n",
    "all_distros = {}\n",
    "\n",
    "for size in range(3, max(component_sizes)+1):\n",
    "    if size not in component_sizes:\n",
    "        continue\n",
    "    distribution = get_size_component_distribution(components_list, size, False)\n",
    "    all_distros[size] = distribution"
   ]
  },
  {
   "cell_type": "markdown",
   "id": "7c647917-7b07-4bbb-aa3d-d1e2e490aa68",
   "metadata": {},
   "source": [
    "Finally, we construct the network one component at a time by sampling the component size from the size distribution and generating a degree sequence by sampling from the degree distribution for that component size. All this components will be merged into a network."
   ]
  },
  {
   "cell_type": "code",
   "execution_count": 19,
   "id": "a4fdad95-a289-4d87-a527-b3666d4795dd",
   "metadata": {},
   "outputs": [],
   "source": [
    "G_gen = nx.MultiGraph()\n",
    "\n",
    "node_offset = 0\n",
    "\n",
    "count = 0\n",
    "\n",
    "for n_component in range(num_components):\n",
    "    size = sampled_size_sequence[n_component]\n",
    "    if (size == 2):\n",
    "        degree_sequence = [1, 1]\n",
    "    else:\n",
    "        distribution = all_distros[size]\n",
    "        degree_sequence = []\n",
    "        for _ in range(size):\n",
    "            degree = distribution.rvs().round().astype(int)\n",
    "            if degree < 1:\n",
    "                print('Degree < 1')\n",
    "            degree_sequence.append(degree)\n",
    "            \n",
    "    degree_sequence = make_degrees_sum_even(degree_sequence)\n",
    "    Component = nx.configuration_model(degree_sequence)\n",
    "    mapping = {node: node + node_offset for node in Component.nodes()}\n",
    "    Component = nx.relabel_nodes(Component, mapping)\n",
    "    \n",
    "    node_offset += size\n",
    "    \n",
    "    G_gen = nx.compose(G_gen, Component)\n",
    "\n"
   ]
  },
  {
   "cell_type": "markdown",
   "id": "0238885a",
   "metadata": {},
   "source": [
    "Before comparing this network with the original, we need to remove self-loops and isolated nodes, as these do not align with the nature of the original dataset."
   ]
  },
  {
   "cell_type": "code",
   "execution_count": 20,
   "id": "661cfad7-d750-4ac3-9fd6-cc06e68c9779",
   "metadata": {},
   "outputs": [
    {
     "name": "stdout",
     "output_type": "stream",
     "text": [
      "-------- Generated network: --------\n",
      "Nodes: 3979\n",
      "Edges: 3826\n",
      "Degree: (Min: 1, Max: 9, Avg: 1.9230962553405377)\n",
      "Connected components: 1185\n",
      "Avg path length: 2.3598894194521236\n",
      "Diameter: 15\n",
      "Radius: 7.5\n",
      "Average clustering coeff: -1\n",
      "Modularity: 0.9971552660983076\n",
      "\n",
      "-------- Original network: --------\n",
      "Nodes: 4030\n",
      "Edges: 4078\n",
      "Degree: (Min: 1, Max: 9, Avg: 2.023821339950372)\n",
      "Connected components: 1155\n",
      "Avg path length: 3.3406947890818857\n",
      "Diameter: 27\n",
      "Radius: 13.5\n",
      "Average clustering coeff: 0.29979262672811063\n",
      "Modularity: 0.9955115981374059\n"
     ]
    }
   ],
   "source": [
    "# Remove self-loops\n",
    "G_gen.remove_edges_from(nx.selfloop_edges(G_gen))\n",
    "\n",
    "# Remove isolated nodes\n",
    "G_gen.remove_nodes_from(list(nx.isolates(G_gen)))\n",
    "\n",
    "\n",
    "print(\"-------- Generated network: --------\")\n",
    "printStats(G_gen)\n",
    "\n",
    "print(\"\\n-------- Original network: --------\")\n",
    "printStats(G)"
   ]
  },
  {
   "cell_type": "markdown",
   "id": "6ba8891b-6106-426a-b0c7-968bc553215c",
   "metadata": {},
   "source": [
    "With this newly generated network only the size of the network and the average path length differ slightly from the original one. Again, the clustering coefficient cannot be displayed, as the network generation was done using multigraphs.\n",
    "\n",
    "Even though this metrics are really promising, there is one key difference between this new network and the original: The new network contains parallel edges, whereas the original network doesn't."
   ]
  },
  {
   "cell_type": "code",
   "execution_count": 21,
   "id": "32267a17-a852-4994-8fd0-c0258aacd7c2",
   "metadata": {},
   "outputs": [
    {
     "name": "stdout",
     "output_type": "stream",
     "text": [
      "-------- Generated network (with no parallel edges): --------\n",
      "Nodes: 3979\n",
      "Edges: 3473\n",
      "Degree: (Min: 1, Max: 7, Avg: 1.745664739884393)\n",
      "Connected components: 1185\n",
      "Avg path length: 2.3598894194521236\n",
      "Diameter: 15\n",
      "Radius: 7.5\n",
      "Average clustering coeff: 0.12665781064876314\n",
      "Modularity: 0.9971215569508767\n",
      "\n",
      "-------- Original network: --------\n",
      "Nodes: 4030\n",
      "Edges: 4078\n",
      "Degree: (Min: 1, Max: 9, Avg: 2.023821339950372)\n",
      "Connected components: 1155\n",
      "Avg path length: 3.3406947890818857\n",
      "Diameter: 27\n",
      "Radius: 13.5\n",
      "Average clustering coeff: 0.29979262672811063\n",
      "Modularity: 0.9955115981374059\n"
     ]
    }
   ],
   "source": [
    "G_gen_no_parallel = nx.Graph(G_gen)\n",
    "nx.write_gexf(G_gen_no_parallel, \"generated_network.gexf\")\n",
    "\n",
    "print(\"-------- Generated network (with no parallel edges): --------\")\n",
    "printStats(G_gen_no_parallel)\n",
    "\n",
    "print(\"\\n-------- Original network: --------\")\n",
    "printStats(G)"
   ]
  },
  {
   "cell_type": "markdown",
   "id": "6f6240d0-cc2c-4463-9425-105b5aff8694",
   "metadata": {},
   "source": [
    "When we remove the parallel edges, the total number of edges and the average degree are slightly lower than in the original network. Additionally, the average clustering coefficient is noticeably smaller in the generated network.\n",
    "\n",
    "The number of connected components (CCs) is also slightly higher than in the original network. This may be surprising, given that each component was created separately. However, this can be attributed to the use of the nx.configuration_model() function, which does not always produce a fully connected network.\n",
    "\n",
    "From the image, the primary difference compared to the original network is that the larger connected components appear more interconnected in the generated version.\n",
    "\n",
    "![Image](renders/CCNet.svg)"
   ]
  },
  {
   "cell_type": "markdown",
   "id": "7cc3fff4-db38-4b8f-ad62-6de365b3c811",
   "metadata": {},
   "source": [
    "### Conclusions\n",
    "By using the nx.configuration_model() function, we were able to recreate the original network almost perfectly, although we did not fully match the number of edges. This issue could potentially be addressed by adding a correction term to the degree distributions to make the average node degree more comparable between the networks. However, we leave this possibility for future research."
   ]
  },
  {
   "cell_type": "markdown",
   "id": "f83d8702-4fc4-41dc-8b67-46c23cc3e6cc",
   "metadata": {},
   "source": [
    "## Chapter 2: Independent Edge-Type Analysis \n",
    "\n",
    "For this chapter, we decided to view each aspect of the graph independently. User-video, and user-user graphs are generated and evaluated separately. The assumption is that the user/user relations and user/video relations are independent, and pre-established ahead of time."
   ]
  },
  {
   "cell_type": "markdown",
   "id": "0fcc43f4-f3fa-430b-94b5-578839cdc354",
   "metadata": {},
   "source": [
    "### Basic types and aliases"
   ]
  },
  {
   "cell_type": "code",
   "execution_count": 22,
   "id": "96c8464f-c2f6-41a7-a56b-8389c3a8ce2d",
   "metadata": {},
   "outputs": [],
   "source": [
    "# Just a struct to more easily represent collected entries\n",
    "from dataclasses import dataclass\n",
    "\n",
    "from typing import Hashable\n",
    "\n",
    "Node = Hashable\n",
    "Edge = tuple[Node, Node]\n",
    "WeightedEdgeDict = dict[Edge, int]\n",
    "\n",
    "@dataclass\n",
    "class EntryStruct:\n",
    "    def __init__(\n",
    "        self,\n",
    "        videoID: str,\n",
    "        user1: str,\n",
    "        user2: str,\n",
    "        timestamp1: datetime,\n",
    "        timestamp2: datetime,\n",
    "    ) -> None:\n",
    "        self.user1 = user1\n",
    "        self.user2 = user2\n",
    "        self.timestamp1 = timestamp1\n",
    "        self.timestamp2 = timestamp2\n",
    "        self.videoID = videoID\n",
    "        pass\n",
    "\n",
    "    @classmethod\n",
    "    def datetimeFromCSVTimestamp(cls, csvTimestamp: str):\n",
    "        return datetime.strptime(csvTimestamp, \"%Y-%m-%d %H:%M:%S\")\n",
    "\n",
    "    @classmethod\n",
    "    def fromEntryRow(cls, row: dict[str, Any]):\n",
    "        return EntryStruct(\n",
    "            row[\"videoID\"],\n",
    "            row[\"userID_1\"],\n",
    "            row[\"userID_2\"],\n",
    "            cls.datetimeFromCSVTimestamp(row[\"timestamp_1\"]),\n",
    "            cls.datetimeFromCSVTimestamp(row[\"timestamp_2\"]),\n",
    "        )"
   ]
  },
  {
   "cell_type": "markdown",
   "id": "c4e514f5-1b6d-4ca5-9291-fb697285888f",
   "metadata": {},
   "source": [
    "### Loading the data set"
   ]
  },
  {
   "cell_type": "code",
   "execution_count": 23,
   "id": "d2092ac6-0fc0-47cd-968c-797f12d222ef",
   "metadata": {},
   "outputs": [],
   "source": [
    "entries: list[EntryStruct] = []\n",
    "    \n",
    "with open(\"pairwise_52seconds_share.csv\", newline=\"\") as csvfile:\n",
    "    csvreader = csv.DictReader(csvfile)\n",
    "    entries = [EntryStruct.fromEntryRow(row) for row in csvreader]"
   ]
  },
  {
   "cell_type": "markdown",
   "id": "314c2bf9-c51f-4bb5-88c9-44744c044b88",
   "metadata": {},
   "source": [
    "### Creating nodes for each unique user / video within the data set\n"
   ]
  },
  {
   "cell_type": "code",
   "execution_count": 24,
   "id": "3f4d5d8a-754e-4027-8b38-e2345baafeb4",
   "metadata": {},
   "outputs": [],
   "source": [
    "userNodes = set[Node]()\n",
    "videoNodes = set[Node]()\n",
    "\n",
    "for entry in entries:\n",
    "    userNodes.add(entry.user1)\n",
    "    userNodes.add(entry.user2)\n",
    "    videoNodes.add(entry.videoID)"
   ]
  },
  {
   "cell_type": "markdown",
   "id": "cd288248-9792-48e8-a67d-5e006a7a6ff6",
   "metadata": {},
   "source": [
    "### Computing trends and edges"
   ]
  },
  {
   "cell_type": "code",
   "execution_count": 25,
   "id": "0b998cc7-4ac8-45ed-ad36-979b295086bc",
   "metadata": {},
   "outputs": [],
   "source": [
    "UserEngagementEdges: WeightedEdgeDict = {}\n",
    "EngagementTargetEdges: WeightedEdgeDict = {}\n",
    "VideoEngagementPeriodEdges: WeightedEdgeDict = {}\n",
    "RelationEdges: WeightedEdgeDict = {}\n",
    "\n",
    "userEngagementNodes = set[Node]()\n",
    "engagementPeriodNodes = set[Node]()\n",
    "\n",
    "\n",
    "# Helper function to increment edge weights when the edge already exist\n",
    "def addOrUpdateEdge(edgesDict: WeightedEdgeDict, edge: Edge):\n",
    "    edgesDict[edge] = edgesDict[edge] + 1 if edge in edgesDict else 1\n",
    "\n",
    "\n",
    "# Create a chronologically ordered list of all video sharing activity by each user\n",
    "# Due to the usage of sets, this will also filter erroneous entries where the same user shared the same video multiple times at the same time\n",
    "shareEvents = list(\n",
    "    set(\n",
    "        [(e.user1, e.timestamp1, e.videoID) for e in entries]\n",
    "        + [(e.user2, e.timestamp2, e.videoID) for e in entries]\n",
    "    )\n",
    ")\n",
    "\n",
    "# Sorting in-place rather than a sort+copy via `sorted()`\n",
    "shareEvents.sort(key=lambda tup: tup[1])\n",
    "\n",
    "# This copy of share events is augmented with the probable starting date time of a trend\n",
    "augmentedShareEvents = list[tuple[str, datetime, str, datetime]]()\n",
    "\n",
    "lastTime: datetime = datetime(1980, 1, 1)\n",
    "currentTimeStampBatch = datetime(1980, 1, 1)\n",
    "\n",
    "# Let's try to assign each share event into a trend period\n",
    "for event in shareEvents:\n",
    "    # A datetime is the original of it's own trend period if it is more than 24 hrs apart since the last share datetime\n",
    "    # Each trend period will get its own node to represent the preiod\n",
    "    if (event[1] - lastTime).total_seconds() > 60 * 60 * 24:\n",
    "        currentTimeStampBatch = event[1]\n",
    "        engagementPeriodNodes.add(currentTimeStampBatch)\n",
    "\n",
    "    lastTime = event[1]\n",
    "    augmentedShareEvents.append((event[0], currentTimeStampBatch, event[2], event[1]))\n",
    "\n",
    "# Let's try to find pairs of users who shared the same video within a 52 second timespan\n",
    "# Bloom: Yes I know that the original dataset contained that information,\n",
    "#   yet I am excluding it since I then adjust the \"closeness interval\" to something else if I desire\n",
    "pairs = [\n",
    "    item\n",
    "    for item in combinations(augmentedShareEvents, 2)\n",
    "    if abs((item[0][3] - item[1][3]).total_seconds()) < 52\n",
    "    and item[0][2] == item[1][2]  # Video must be the same\n",
    "]\n",
    "\n",
    "# Add bidirectional edges for share buddies\n",
    "for item in pairs:\n",
    "    addOrUpdateEdge(RelationEdges, (item[0][0], item[1][0]))\n",
    "    addOrUpdateEdge(RelationEdges, (item[1][0], item[0][0]))\n",
    "\n",
    "# Add edges for each share event\n",
    "for event in augmentedShareEvents:\n",
    "    # Add weight to an edge between the user and the trend node\n",
    "    addOrUpdateEdge(EngagementTargetEdges, (event[0], event[1]))\n",
    "\n",
    "    # Add weight to an edge between the trend node and the target video\n",
    "    addOrUpdateEdge(VideoEngagementPeriodEdges, (event[1], event[2]))"
   ]
  },
  {
   "cell_type": "markdown",
   "id": "06a10440-936e-4c9f-bcc2-176dfb47d66f",
   "metadata": {},
   "source": [
    "### Helper functions"
   ]
  },
  {
   "cell_type": "markdown",
   "id": "7993a996-9ccb-4ae5-af2b-734cb021faea",
   "metadata": {},
   "source": [
    "This section defines essential utility functions for constructing and managing graph structures,\n",
    "facilitating node and edge addition with specified properties, which is crucial for analyzing complex networks. The getNodeIDFor function assigns unique integer IDs to arbitrary node labels, simplifying node management and ensuring consistent node identification across the graph.\n",
    "\n",
    "The addEdgesToGraph function adds weighted edges between nodes, with optional bidirectional behavior, supporting the creation of either directed or undirected networks. This flexibility allows the function to handle various types of graph representations, adjusting connectivity based on the intended analysis or model.\n",
    "\n",
    "Similarly, addNodesToGraph incorporates nodes into the graph with designated types and labels, enabling the organization of nodes based on specific characteristics or roles within the network. By associating nodes and edges with unique IDs and types, these utility functions lay a foundation for comprehensive network analysis, where different node and edge properties can be leveraged to study complex relationships and network structures. These functions are particularly useful in modular analysis, where maintaining node identity and connection consistency is critical for accurate metrics and visualizations in network-based research."
   ]
  },
  {
   "cell_type": "code",
   "execution_count": 26,
   "id": "87cf7ee2-a6b1-4d1a-93de-7ffe4aaab1e1",
   "metadata": {},
   "outputs": [],
   "source": [
    "nodeID = 0\n",
    "nodeIDMap: dict[str, int] = {}\n",
    "# This function is used to assign simpler IDs for node identifiers\n",
    "def getNodeIDFor(label: Any):\n",
    "    global nodeID\n",
    "    if label in nodeIDMap:\n",
    "        return nodeIDMap[label]\n",
    "\n",
    "    nodeIDMap[label] = nodeID\n",
    "    nodeID += 1\n",
    "    return nodeIDMap[label]\n",
    "\n",
    "def addEdgesToGraph(\n",
    "    G: networkx.Graph, edges: WeightedEdgeDict, edgeType: str, bidirectional=False\n",
    "):\n",
    "    for edge in edges:\n",
    "        weight = edges[edge]\n",
    "        u = getNodeIDFor(edge[0])\n",
    "        v = getNodeIDFor(edge[1])\n",
    "        G.add_edge(u, v, edgeType=edgeType, weight=weight)\n",
    "        if bidirectional:\n",
    "            G.add_edge(v, u, edgeType=edgeType, weight=weight)\n",
    "\n",
    "def addNodesToGraph(G: networkx.Graph, nodes: set[Node], nodeType: str):\n",
    "    for node in nodes:\n",
    "        G.add_node(getNodeIDFor(node), type=nodeType, label=node)\n"
   ]
  },
  {
   "cell_type": "markdown",
   "id": "403619e2-87c6-4f7e-98e6-687bbc2ed8bb",
   "metadata": {},
   "source": [
    "### Generating a graph with only user/video relations\n",
    "\n",
    "The User/Video graph will be bipartite by definition. So many generated models we'll be comparing to will be the bipartite variant as well."
   ]
  },
  {
   "cell_type": "code",
   "execution_count": 27,
   "id": "d6968ab3-1383-47fa-aa10-0702a2eb9d98",
   "metadata": {},
   "outputs": [
    {
     "name": "stdout",
     "output_type": "stream",
     "text": [
      "Nodes: 4368\n",
      "Edges: 4307\n",
      "Degree: (Min: 1, Max: 1723, Avg: 1.9720695970695972)\n",
      "Connected components: 187\n",
      "Avg path length: 8.73695054945055\n",
      "Diameter: 17\n",
      "Radius: 8.5\n",
      "Average clustering coeff: 0.0\n",
      "Modularity: 0.8092405659891733\n"
     ]
    }
   ],
   "source": [
    "userVid = nx.Graph()\n",
    "for user in userNodes:\n",
    "    userVid.add_node(user, type=\"user\")\n",
    "for video in videoNodes:\n",
    "    userVid.add_node(video, type=\"video\")\n",
    "for entry in entries:\n",
    "    userVid.add_edge(entry.user1, entry.videoID)\n",
    "    userVid.add_edge(entry.user2, entry.videoID)\n",
    "\n",
    "\n",
    "dsUser = [d for n, d in userVid.degree() if n in userNodes]  # type:ignore\n",
    "dsVideo = [d for n, d in userVid.degree() if n in videoNodes]  # type:ignore\n",
    "\n",
    "printStats(userVid)\n",
    "nx.write_gexf(userVid, \"UserVideo.gexf\")"
   ]
  },
  {
   "cell_type": "code",
   "execution_count": 28,
   "id": "9053ea63-038c-4cf2-9792-c78be6ff886b",
   "metadata": {},
   "outputs": [
    {
     "name": "stdout",
     "output_type": "stream",
     "text": [
      "Nodes: 4368\n",
      "Edges: 4307\n",
      "Degree: (Min: 1, Max: 1723, Avg: 1.9720695970695972)\n",
      "Connected components: 168\n",
      "Avg path length: 6.308608058608058\n",
      "Diameter: 10\n",
      "Radius: 5.0\n",
      "Average clustering coeff: -1\n",
      "Modularity: 0.79478806456992\n"
     ]
    }
   ],
   "source": [
    "dqUser = [d for n, d in userVid.degree() if n in userNodes]  # type:ignore\n",
    "dqVideo = [d for n, d in userVid.degree() if n in videoNodes]  # type:ignore\n",
    "\n",
    "bicm = nx.algorithms.bipartite.configuration_model(dqUser, dqVideo)\n",
    "printStats(bicm)\n",
    "nx.write_gexf(bicm, \"bicm.gexf\")"
   ]
  },
  {
   "cell_type": "code",
   "execution_count": 29,
   "id": "a27d5761-5b16-4bbf-8a1f-a45f8218bd84",
   "metadata": {},
   "outputs": [
    {
     "name": "stdout",
     "output_type": "stream",
     "text": [
      "Nodes: 4368\n",
      "Edges: 4307\n",
      "Degree: (Min: 1, Max: 1723, Avg: 1.9720695970695972)\n",
      "Connected components: 239\n",
      "Avg path length: 3.1117216117216118\n",
      "Diameter: 4\n",
      "Radius: 2.0\n",
      "Average clustering coeff: -1\n",
      "Modularity: 0.7850197320801512\n"
     ]
    }
   ],
   "source": [
    "bihh = nx.algorithms.bipartite.havel_hakimi_graph(dqUser, dqVideo)\n",
    "nx.write_gexf(bihh, \"bihh.gexf\")\n",
    "printStats(bihh)"
   ]
  },
  {
   "cell_type": "markdown",
   "id": "a9cf9a90-8c53-4df6-a9f7-b145a6e315a5",
   "metadata": {},
   "source": [
    "Comparing our actual dataset with a bipartite Havel-Hakimi configuration model with the same degree sequence. (The Havel-Hakimi model was chosen to avoid self-loops and parallel edges)\n",
    "\n",
    "We can see that the connected components of the synthesized model is greater than the real world data (239 vs 187), while the modularity is slightly lower (0.785 vs 0.809)."
   ]
  },
  {
   "cell_type": "code",
   "execution_count": 30,
   "id": "f4f954fc-9ad0-47df-b3c4-f8c02d4bf450",
   "metadata": {},
   "outputs": [
    {
     "name": "stdout",
     "output_type": "stream",
     "text": [
      "Nodes: 4368\n",
      "Edges: 4348\n",
      "Degree: (Min: 0, Max: 31, Avg: 1.9908424908424909)\n",
      "Connected components: 1424\n",
      "Avg path length: 5.332875457875458\n",
      "Diameter: 10\n",
      "Radius: 5.0\n",
      "Average clustering coeff: 0.0\n",
      "Modularity: 0.6792569086105004\n"
     ]
    }
   ],
   "source": [
    "biER = nx.algorithms.bipartite.random_graph(len(userNodes), len(videoNodes), 0.0043)\n",
    "printStats(biER)\n",
    "\n",
    "nx.write_gexf(biER, \"bier.gexf\")"
   ]
  },
  {
   "cell_type": "markdown",
   "id": "50cc6a59-8c8a-4e11-8837-54c623dd7dbd",
   "metadata": {},
   "source": [
    "We also generated a bipartite Erdos Renyi model with approximately the same number of edges. \n",
    "\n",
    "Compared to the real-world model, we can see a number of major differences.\n",
    "\n",
    "While the average degree is almost the same, the maximum degree is significantly different. Not only that, the number of connected components are also severely higher, implying that a lot of nodes are not connected to anything. Modularity score is significantly lower as well.\n",
    "\n",
    "All of this differences demonstrates that the original data set isn't truly random or based on coincidences."
   ]
  },
  {
   "cell_type": "markdown",
   "id": "74530f5d-dce9-42a9-985d-168ff66f4646",
   "metadata": {},
   "source": [
    "![Image](renders/Derrick.jpeg)"
   ]
  },
  {
   "cell_type": "markdown",
   "id": "5551be07-5b12-4042-957a-210ac26b10e2",
   "metadata": {},
   "source": [
    "### Generating a graph with only user/user relations"
   ]
  },
  {
   "cell_type": "code",
   "execution_count": 31,
   "id": "2d33a174-ea03-4b19-bde9-acaf57db2e55",
   "metadata": {},
   "outputs": [
    {
     "name": "stdout",
     "output_type": "stream",
     "text": [
      "Nodes: 4124\n",
      "Edges: 4078\n",
      "Degree: (Min: 0, Max: 9, Avg: 1.9776915615906887)\n",
      "Connected components: 1249\n",
      "Avg path length: 3.26454898157129\n",
      "Diameter: 27\n",
      "Radius: 13.5\n",
      "Average clustering coeff: 0.292959332132465\n",
      "Modularity: 0.995511598137406\n"
     ]
    }
   ],
   "source": [
    "userUser = nx.Graph()\n",
    "\n",
    "for user in userNodes:\n",
    "    userUser.add_node(user)\n",
    "for entry in [e for e in entries if e.user1 != e.user2]:\n",
    "    userUser.add_edge(entry.user1, entry.user2)\n",
    "\n",
    "nx.write_gexf(userUser, \"UU.gexf\")\n",
    "printStats(userUser)"
   ]
  },
  {
   "cell_type": "code",
   "execution_count": 32,
   "id": "ee72cf54-b393-41ff-8bd8-eed72d7328a7",
   "metadata": {},
   "outputs": [
    {
     "name": "stdout",
     "output_type": "stream",
     "text": [
      "Nodes: 4124\n",
      "Edges: 4124\n",
      "Degree: (Min: 1, Max: 6, Avg: 2.0)\n",
      "Connected components: 4\n",
      "Avg path length: 212.85741998060135\n",
      "Diameter: 278\n",
      "Radius: 139.0\n",
      "Average clustering coeff: 0.0005092143549951504\n",
      "Modularity: 0.968451217871587\n"
     ]
    }
   ],
   "source": [
    "avgUUDeg = int(np.round(np.mean([d for n, d in userUser.degree()])))\n",
    "\n",
    "uuWS = nx.watts_strogatz_graph(len(userNodes), avgUUDeg, 0.5)\n",
    "printStats(uuWS)\n",
    "\n",
    "nx.write_gexf(uuWS, \"uuws.gexf\")"
   ]
  },
  {
   "cell_type": "markdown",
   "id": "edbb96a6-d25e-45b6-8975-19be71d770d7",
   "metadata": {},
   "source": [
    "Despite having similar edges and average degree. Many of the other statistics differ greatly between the original dataset.\n",
    "\n",
    "This shows that the user/user relations of the original dataset do not have any small world properties."
   ]
  },
  {
   "cell_type": "code",
   "execution_count": 33,
   "id": "ee6e30b8-7b44-40e9-b89b-bb4c5ea4b69a",
   "metadata": {},
   "outputs": [
    {
     "name": "stdout",
     "output_type": "stream",
     "text": [
      "Nodes: 4124\n",
      "Edges: 4289\n",
      "Degree: (Min: 0, Max: 8, Avg: 2.080019398642095)\n",
      "Connected components: 600\n",
      "Avg path length: 16.188894277400582\n",
      "Diameter: 27\n",
      "Radius: 13.5\n",
      "Average clustering coeff: 0.0\n",
      "Modularity: 0.8094393194952184\n"
     ]
    }
   ],
   "source": [
    "uuER = nx.erdos_renyi_graph(len(userNodes), 0.000125*4)\n",
    "printStats(uuER)"
   ]
  },
  {
   "cell_type": "markdown",
   "id": "08159ab2-ab5f-4294-9891-8716f58ad201",
   "metadata": {},
   "source": [
    "Compared to a similar Erdos Renyi Graph, while degree statistics are pretty close. With the maximum diameter/radius of connected components being very close.\n",
    "\n",
    "The number of connected components is around half of the original model, with the average path length being much longer.\n",
    "Clustering coefficients are also much lower than the original model.\n",
    "Modularity is only a tad lower.\n",
    "\n",
    "All of there rather major differences show that the user-user relations is not random."
   ]
  },
  {
   "cell_type": "markdown",
   "id": "c422196f-eed1-4710-b373-689051be8a98",
   "metadata": {},
   "source": [
    "### Making a 3-partite Erdos Renyi Graph to compare engagement groups\n",
    "\n",
    "We want to see if the real-world data, minus the user-user relations, is nearly random or coincidental."
   ]
  },
  {
   "cell_type": "markdown",
   "id": "5d7a95b4-1a37-428b-b001-20cdc661d64b",
   "metadata": {},
   "source": [
    "First we create a subgraph of the original real-world data, limited to only User and EngagementPeriod nodes. We also generate the accompanying bipartite Erdos Renyi graph."
   ]
  },
  {
   "cell_type": "code",
   "execution_count": 34,
   "id": "d101dea6-885b-4b4d-881a-5534a1a73342",
   "metadata": {},
   "outputs": [
    {
     "name": "stdout",
     "output_type": "stream",
     "text": [
      "Nodes: 4232\n",
      "Edges: 4124\n",
      "Degree: (Min: 1, Max: 593, Avg: 1.9489603024574669)\n",
      "Connected components: 108\n",
      "Avg path length: 1.9735349716446124\n",
      "Diameter: 2\n",
      "Radius: 1.0\n",
      "Average clustering coeff: 0.0\n",
      "Modularity: 0.9383963525233561\n",
      "\n",
      "Nodes: 4232\n",
      "Edges: 4045\n",
      "Degree: (Min: 0, Max: 51, Avg: 1.9116257088846882)\n",
      "Connected components: 1538\n",
      "Avg path length: 3.8416824196597354\n",
      "Diameter: 8\n",
      "Radius: 4.0\n",
      "Average clustering coeff: 0.0\n",
      "Modularity: 0.6553246312727182\n"
     ]
    }
   ],
   "source": [
    "but_ = nx.Graph()\n",
    "addNodesToGraph(but_, engagementPeriodNodes, \"EngagementPeriod\")\n",
    "addNodesToGraph(but_, userNodes, \"User\")\n",
    "\n",
    "addEdgesToGraph(but_, EngagementTargetEdges, \"EngagementTarget\")\n",
    "\n",
    "buT = nx.algorithms.bipartite.random_graph(\n",
    "    len(userNodes), len(engagementPeriodNodes), 0.009\n",
    ")\n",
    "\n",
    "printStats(but_)\n",
    "print()\n",
    "printStats(buT)"
   ]
  },
  {
   "cell_type": "markdown",
   "id": "db2796c0-cfbd-47f1-bc46-fc685c59769b",
   "metadata": {},
   "source": [
    "We then create a subgraph of the real-world data, limited to only EngagementPeriod and Video nodes. We also generate the accompanying bipartite Erdos Renyi graph."
   ]
  },
  {
   "cell_type": "code",
   "execution_count": 35,
   "id": "f5434890-be0a-4397-a791-19520b70b68c",
   "metadata": {},
   "outputs": [
    {
     "name": "stdout",
     "output_type": "stream",
     "text": [
      "Nodes: 352\n",
      "Edges: 414\n",
      "Degree: (Min: 1, Max: 75, Avg: 2.352272727272727)\n",
      "Connected components: 17\n",
      "Avg path length: 6.255681818181818\n",
      "Diameter: 9\n",
      "Radius: 4.5\n",
      "Average clustering coeff: 0.0\n",
      "Modularity: 0.45717518400965923\n",
      "\n",
      "Nodes: 352\n",
      "Edges: 416\n",
      "Degree: (Min: 0, Max: 11, Avg: 2.3636363636363638)\n",
      "Connected components: 57\n",
      "Avg path length: 8.292613636363637\n",
      "Diameter: 13\n",
      "Radius: 6.5\n",
      "Average clustering coeff: 0.0\n",
      "Modularity: 0.65041084966716\n"
     ]
    }
   ],
   "source": [
    "btv_ = nx.Graph()\n",
    "addNodesToGraph(btv_, engagementPeriodNodes, \"EngagementPeriod\")\n",
    "addNodesToGraph(btv_, videoNodes, \"Video\")\n",
    "\n",
    "addEdgesToGraph(btv_, VideoEngagementPeriodEdges, \"EngagementPeriodEdge\")\n",
    "\n",
    "btV = nx.algorithms.bipartite.random_graph(\n",
    "    len(engagementPeriodNodes), len(videoNodes), 0.015\n",
    ")\n",
    "\n",
    "printStats(btv_)\n",
    "print()\n",
    "printStats(btV)"
   ]
  },
  {
   "cell_type": "markdown",
   "id": "06b88217-bd72-4c79-ae90-e1062563226d",
   "metadata": {},
   "source": [
    "Now that we have these two generated biparted graph, we can merge them together to create a 3-partite graph. We of course create a subgraph of the original data that matches combined both the subgraphs created earlier."
   ]
  },
  {
   "cell_type": "code",
   "execution_count": 36,
   "id": "28b656c9-4593-43a5-b502-b611be23b8a0",
   "metadata": {},
   "outputs": [],
   "source": [
    "combined_ = nx.Graph()\n",
    "addNodesToGraph(combined_, userNodes, \"User\")\n",
    "\n",
    "addNodesToGraph(combined_, engagementPeriodNodes, \"EngagementPeriod\")\n",
    "addNodesToGraph(combined_, videoNodes, \"Video\")\n",
    "\n",
    "addEdgesToGraph(combined_, EngagementTargetEdges, \"EngagementTarget\")\n",
    "addEdgesToGraph(combined_, VideoEngagementPeriodEdges, \"EngagementPeriodEdge\")\n",
    "\n",
    "nx.write_gexf(combined_, \"combined_.gexf\")"
   ]
  },
  {
   "cell_type": "code",
   "execution_count": 37,
   "id": "923db339-4c5a-47b5-a2a6-253dad45b4a3",
   "metadata": {},
   "outputs": [],
   "source": [
    "### THIS IS AN ATTEMPT TO MERGE BOTH btV and buT into a single r-partite graph\n",
    "### MOST OF THE CODE IS TO REASSIGN NODE IDS TO SOMETHING NON-CONFLICTING SO THE EDGES WILL CORRECTLY REFER TO THE CORRECT NODES IN THE MERGED GRAPH\n",
    "\n",
    "\n",
    "# Create combined random k-partite graph\n",
    "edges= []\n",
    "aDict = {}\n",
    "bDict = {}\n",
    "cDict = {}\n",
    "\n",
    "\n",
    "combined = nx.Graph()\n",
    "\n",
    "def getOrAssign(dict, name, prefix:str):\n",
    "    if(name in dict):\n",
    "        return dict[name]\n",
    "    \n",
    "    name2 = f\"{prefix}{len(dict)}\"\n",
    "    dict[name] = name2\n",
    "    return name2\n",
    "\n",
    "\n",
    "for node in buT.nodes:\n",
    "    if(buT.nodes[node][\"bipartite\"] == 0):\n",
    "        getOrAssign(aDict, node, \"a\")\n",
    "    else:\n",
    "        getOrAssign(bDict, node, \"b\")\n",
    "\n",
    "for a,b in buT.edges():\n",
    "    if(buT.nodes[a][\"bipartite\"] == 0):\n",
    "        aID= getOrAssign(aDict, a, \"a\")\n",
    "        bID = getOrAssign(bDict, b, \"b\")\n",
    "    else:\n",
    "        aID= getOrAssign(bDict, a, \"b\")\n",
    "        bID = getOrAssign(aDict, b, \"a\")\n",
    "\n",
    "    edges.append((aID, bID))\n",
    "\n",
    "for node in bDict.values():\n",
    "    combined.add_node(node, type=\"trendPeriod\")\n",
    "\n",
    "bDict = {}\n",
    "\n",
    "for node in btV.nodes:\n",
    "    if(btV.nodes[node][\"bipartite\"] == 0):\n",
    "        getOrAssign(bDict, node, \"b\")\n",
    "    else:\n",
    "        getOrAssign(cDict, node, \"c\")\n",
    "\n",
    "for a,b in btV.edges():\n",
    "    if(btV.nodes[a][\"bipartite\"] == 0):\n",
    "        aID= getOrAssign(bDict, a, \"b\")\n",
    "        bID = getOrAssign(cDict, b, \"c\")\n",
    "    else:\n",
    "        aID= getOrAssign(cDict, a, \"c\")\n",
    "        bID = getOrAssign(bDict, b, \"b\")\n",
    "\n",
    "    edges.append((aID, bID))\n",
    "\n",
    "\n",
    "\n",
    "for node in aDict.values():\n",
    "    combined.add_node(node, type=\"user\")\n",
    "\n",
    "for node in bDict.values():\n",
    "    combined.add_node(node, type=\"trendPeriod\")\n",
    "for node in cDict.values():\n",
    "    combined.add_node(node, type=\"video\")\n",
    "\n",
    "for edge in edges:\n",
    "    combined.add_edge(edge[0], edge[1])\n",
    "\n",
    "\n",
    "nx.write_gexf(combined, \"combined.gexf\")"
   ]
  },
  {
   "cell_type": "code",
   "execution_count": 38,
   "id": "fe778182-7540-45e3-9c82-751117c236ce",
   "metadata": {},
   "outputs": [
    {
     "name": "stdout",
     "output_type": "stream",
     "text": [
      "Nodes: 4476\n",
      "Edges: 4538\n",
      "Degree: (Min: 1, Max: 668, Avg: 2.027703306523682)\n",
      "Connected components: 17\n",
      "Avg path length: 7.864164432529043\n",
      "Diameter: 10\n",
      "Radius: 5.0\n",
      "Average clustering coeff: 0.0\n",
      "Modularity: 0.5740961549896182\n",
      "\n",
      "Nodes: 4476\n",
      "Edges: 4461\n",
      "Degree: (Min: 0, Max: 57, Avg: 1.9932975871313674)\n",
      "Connected components: 1588\n",
      "Avg path length: 3.8485254691689006\n",
      "Diameter: 6\n",
      "Radius: 3.0\n",
      "Average clustering coeff: 0.0\n",
      "Modularity: 0.636974052086375\n"
     ]
    }
   ],
   "source": [
    "printStats(combined_)\n",
    "print()\n",
    "printStats(combined)"
   ]
  },
  {
   "cell_type": "markdown",
   "id": "769280ee-d71d-4477-9303-83c2778000e4",
   "metadata": {},
   "source": [
    "Doing the comparison of the generated 3-partite erdos renyi, and the real-world data. We can see that nearly all statistical metrics are significantly different.\n",
    "\n",
    "This tells us that even when including temporal data to link up users and the videos, the real world data doesn't seem to be random."
   ]
  },
  {
   "cell_type": "markdown",
   "id": "dafdfdc1-2a3c-4a81-9c3d-62e1a6a9e65e",
   "metadata": {},
   "source": [
    "![Image](renders/Derrick-ERGraph-3partite.jpeg)"
   ]
  },
  {
   "cell_type": "markdown",
   "id": "55d3aabb-f3cd-4db7-b0e4-6567285a312f",
   "metadata": {},
   "source": [
    "## Bonus: Constructing a Comprehensive Multi-Node Graph Incorporating All Dataset Entities"
   ]
  },
  {
   "cell_type": "markdown",
   "id": "5e0b20d0",
   "metadata": {},
   "source": [
    "In this bonus section, we expand the network analysis by constructing a comprehensive graph that includes all entity types from the dataset—not limited to user-user interactions. By integrating additional nodes, such as users, videos, and any other relevant entities, this graph offers a holistic view of the network's multi-faceted structure. This approach allows us to explore the interactions between different types of nodes, providing deeper insights into the connectivity patterns and relationships that emerge when all dataset components are represented.\n"
   ]
  },
  {
   "cell_type": "markdown",
   "id": "232d1576-1a03-4330-831c-18dcf7ba185c",
   "metadata": {},
   "source": [
    "## Creating the graph"
   ]
  },
  {
   "cell_type": "markdown",
   "id": "0c0af505-7465-4894-9a9a-93d76ed84590",
   "metadata": {},
   "source": [
    "The code below builds a directed graph (DiGraph) with NetworkX to represent interactions among \"EngagementPeriod,\" \"User,\" and \"Video\" nodes. It adds nodes categorized by type, making the data more organized. Then, it connects nodes with edges labeled as \"RelationEdges,\" \"EngagementPeriodEdge,\" and \"EngagementTarget,\" each representing different relationships within the network. Finally, the code prints the node and edge counts, providing an overview of the graph's structure and complexity for further analysis of engagement patterns."
   ]
  },
  {
   "cell_type": "code",
   "execution_count": 39,
   "id": "b3a692e0-cea4-4fbc-8529-275e10eb5120",
   "metadata": {},
   "outputs": [
    {
     "name": "stdout",
     "output_type": "stream",
     "text": [
      "4476\n",
      "12518\n"
     ]
    }
   ],
   "source": [
    "G_ws = networkx.DiGraph()\n",
    "\n",
    "addNodesToGraph(G_ws, engagementPeriodNodes, \"EngagementPeriod\")\n",
    "addNodesToGraph(G_ws, userNodes, \"User\")\n",
    "addNodesToGraph(G_ws, videoNodes, \"Video\")\n",
    "\n",
    "addEdgesToGraph(G_ws, RelationEdges, \"RelationEdges\")\n",
    "addEdgesToGraph(G_ws, VideoEngagementPeriodEdges, \"EngagementPeriodEdge\")\n",
    "addEdgesToGraph(G_ws, EngagementTargetEdges, \"EngagementTarget\")\n",
    "\n",
    "\n",
    "print(G_ws.number_of_nodes())\n",
    "print(G_ws.number_of_edges())"
   ]
  },
  {
   "cell_type": "markdown",
   "id": "a1982328-651e-40f7-b1f2-a382fb66c273",
   "metadata": {},
   "source": [
    "### Render using gephi\n",
    "\n",
    "The above `.gexf` file can be imported into Gephi, in order to render/visualize the network. \n",
    "\n",
    "The following are the steps I've taken:\n",
    "1. Color the nodes based on `Type` attribute\n",
    "2. Size the nodes based on `Weighted in-degree`\n",
    "   * Min size = 10\n",
    "   * Max Size = 150\n",
    "   * Spline easing = Circular\n",
    "3. Ran the ForceAtlas2 layouting algorithm\n",
    "   * Default settings, with `Gravity=500` and `Scaling=100` \n",
    "4. Color the edges based on the target node's color\n",
    "5. Rescaled the edge weights to $[10, 100]$"
   ]
  },
  {
   "cell_type": "markdown",
   "id": "0a268c9c-9f4a-4260-a3bd-027557510b73",
   "metadata": {},
   "source": [
    "The following image shows the processed dataset from above.\n",
    "\n",
    "* Green nodes are Trend node, indicating a lot of activity all occurring within a day of each other.\n",
    "* Purple nodes are Users.\n",
    "* Orange nodes are Videos."
   ]
  },
  {
   "cell_type": "markdown",
   "id": "c7a3107d-5803-4a5f-824b-13c90792d272",
   "metadata": {},
   "source": [
    " ![Image](renders/Gephi-render.svg)"
   ]
  }
 ],
 "metadata": {
  "kernelspec": {
   "display_name": "Python 3 (ipykernel)",
   "language": "python",
   "name": "python3"
  },
  "language_info": {
   "codemirror_mode": {
    "name": "ipython",
    "version": 3
   },
   "file_extension": ".py",
   "mimetype": "text/x-python",
   "name": "python",
   "nbconvert_exporter": "python",
   "pygments_lexer": "ipython3",
   "version": "3.10.1"
  }
 },
 "nbformat": 4,
 "nbformat_minor": 5
}
